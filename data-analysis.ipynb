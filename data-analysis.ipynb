{
 "cells": [
  {
   "cell_type": "code",
   "execution_count": 1,
   "id": "37f4d79a",
   "metadata": {
    "_cell_guid": "b1076dfc-b9ad-4769-8c92-a6c4dae69d19",
    "_uuid": "8f2839f25d086af736a60e9eeb907d3b93b6e0e5",
    "execution": {
     "iopub.execute_input": "2023-03-10T13:55:14.478529Z",
     "iopub.status.busy": "2023-03-10T13:55:14.478129Z",
     "iopub.status.idle": "2023-03-10T13:55:14.636238Z",
     "shell.execute_reply": "2023-03-10T13:55:14.635180Z"
    },
    "papermill": {
     "duration": 0.168951,
     "end_time": "2023-03-10T13:55:14.638569",
     "exception": false,
     "start_time": "2023-03-10T13:55:14.469618",
     "status": "completed"
    },
    "tags": []
   },
   "outputs": [
    {
     "name": "stdout",
     "output_type": "stream",
     "text": [
      "/kaggle/input/world-happiness-report-2021/world-happiness-report-2021.csv\n",
      "/kaggle/input/world-happiness-report-2021/world-happiness-report.csv\n"
     ]
    }
   ],
   "source": [
    "# This Python 3 environment comes with many helpful analytics libraries installed\n",
    "# It is defined by the kaggle/python Docker image: https://github.com/kaggle/docker-python\n",
    "# For example, here's several helpful packages to load\n",
    "\n",
    "import numpy as np # linear algebra\n",
    "import pandas as pd # data processing, CSV file I/O (e.g. pd.read_csv)\n",
    "\n",
    "# Input data files are available in the read-only \"../input/\" directory\n",
    "# For example, running this (by clicking run or pressing Shift+Enter) will list all files under the input directory\n",
    "\n",
    "import os\n",
    "for dirname, _, filenames in os.walk('/kaggle/input'):\n",
    "    for filename in filenames:\n",
    "        print(os.path.join(dirname, filename))\n",
    "\n",
    "# You can write up to 20GB to the current directory (/kaggle/working/) that gets preserved as output when you create a version using \"Save & Run All\" \n",
    "# You can also write temporary files to /kaggle/temp/, but they won't be saved outside of the current session"
   ]
  },
  {
   "cell_type": "code",
   "execution_count": 2,
   "id": "bcd490c6",
   "metadata": {
    "execution": {
     "iopub.execute_input": "2023-03-10T13:55:14.652331Z",
     "iopub.status.busy": "2023-03-10T13:55:14.651577Z",
     "iopub.status.idle": "2023-03-10T13:55:15.722367Z",
     "shell.execute_reply": "2023-03-10T13:55:15.721027Z"
    },
    "papermill": {
     "duration": 1.080808,
     "end_time": "2023-03-10T13:55:15.725344",
     "exception": false,
     "start_time": "2023-03-10T13:55:14.644536",
     "status": "completed"
    },
    "tags": []
   },
   "outputs": [],
   "source": [
    "import matplotlib.pyplot as plt\n",
    "import seaborn as sns"
   ]
  },
  {
   "cell_type": "code",
   "execution_count": 3,
   "id": "ad9e5cd6",
   "metadata": {
    "execution": {
     "iopub.execute_input": "2023-03-10T13:55:15.738800Z",
     "iopub.status.busy": "2023-03-10T13:55:15.738398Z",
     "iopub.status.idle": "2023-03-10T13:55:15.787503Z",
     "shell.execute_reply": "2023-03-10T13:55:15.786142Z"
    },
    "papermill": {
     "duration": 0.059005,
     "end_time": "2023-03-10T13:55:15.790170",
     "exception": false,
     "start_time": "2023-03-10T13:55:15.731165",
     "status": "completed"
    },
    "tags": []
   },
   "outputs": [
    {
     "data": {
      "text/html": [
       "<div>\n",
       "<style scoped>\n",
       "    .dataframe tbody tr th:only-of-type {\n",
       "        vertical-align: middle;\n",
       "    }\n",
       "\n",
       "    .dataframe tbody tr th {\n",
       "        vertical-align: top;\n",
       "    }\n",
       "\n",
       "    .dataframe thead th {\n",
       "        text-align: right;\n",
       "    }\n",
       "</style>\n",
       "<table border=\"1\" class=\"dataframe\">\n",
       "  <thead>\n",
       "    <tr style=\"text-align: right;\">\n",
       "      <th></th>\n",
       "      <th>Country name</th>\n",
       "      <th>year</th>\n",
       "      <th>Life Ladder</th>\n",
       "      <th>Log GDP per capita</th>\n",
       "      <th>Social support</th>\n",
       "      <th>Healthy life expectancy at birth</th>\n",
       "      <th>Freedom to make life choices</th>\n",
       "      <th>Generosity</th>\n",
       "      <th>Perceptions of corruption</th>\n",
       "      <th>Positive affect</th>\n",
       "      <th>Negative affect</th>\n",
       "    </tr>\n",
       "  </thead>\n",
       "  <tbody>\n",
       "    <tr>\n",
       "      <th>0</th>\n",
       "      <td>Afghanistan</td>\n",
       "      <td>2008</td>\n",
       "      <td>3.724</td>\n",
       "      <td>7.370</td>\n",
       "      <td>0.451</td>\n",
       "      <td>50.80</td>\n",
       "      <td>0.718</td>\n",
       "      <td>0.168</td>\n",
       "      <td>0.882</td>\n",
       "      <td>0.518</td>\n",
       "      <td>0.258</td>\n",
       "    </tr>\n",
       "    <tr>\n",
       "      <th>1</th>\n",
       "      <td>Afghanistan</td>\n",
       "      <td>2009</td>\n",
       "      <td>4.402</td>\n",
       "      <td>7.540</td>\n",
       "      <td>0.552</td>\n",
       "      <td>51.20</td>\n",
       "      <td>0.679</td>\n",
       "      <td>0.190</td>\n",
       "      <td>0.850</td>\n",
       "      <td>0.584</td>\n",
       "      <td>0.237</td>\n",
       "    </tr>\n",
       "    <tr>\n",
       "      <th>2</th>\n",
       "      <td>Afghanistan</td>\n",
       "      <td>2010</td>\n",
       "      <td>4.758</td>\n",
       "      <td>7.647</td>\n",
       "      <td>0.539</td>\n",
       "      <td>51.60</td>\n",
       "      <td>0.600</td>\n",
       "      <td>0.121</td>\n",
       "      <td>0.707</td>\n",
       "      <td>0.618</td>\n",
       "      <td>0.275</td>\n",
       "    </tr>\n",
       "    <tr>\n",
       "      <th>3</th>\n",
       "      <td>Afghanistan</td>\n",
       "      <td>2011</td>\n",
       "      <td>3.832</td>\n",
       "      <td>7.620</td>\n",
       "      <td>0.521</td>\n",
       "      <td>51.92</td>\n",
       "      <td>0.496</td>\n",
       "      <td>0.162</td>\n",
       "      <td>0.731</td>\n",
       "      <td>0.611</td>\n",
       "      <td>0.267</td>\n",
       "    </tr>\n",
       "    <tr>\n",
       "      <th>4</th>\n",
       "      <td>Afghanistan</td>\n",
       "      <td>2012</td>\n",
       "      <td>3.783</td>\n",
       "      <td>7.705</td>\n",
       "      <td>0.521</td>\n",
       "      <td>52.24</td>\n",
       "      <td>0.531</td>\n",
       "      <td>0.236</td>\n",
       "      <td>0.776</td>\n",
       "      <td>0.710</td>\n",
       "      <td>0.268</td>\n",
       "    </tr>\n",
       "  </tbody>\n",
       "</table>\n",
       "</div>"
      ],
      "text/plain": [
       "  Country name  year  Life Ladder  Log GDP per capita  Social support  \\\n",
       "0  Afghanistan  2008        3.724               7.370           0.451   \n",
       "1  Afghanistan  2009        4.402               7.540           0.552   \n",
       "2  Afghanistan  2010        4.758               7.647           0.539   \n",
       "3  Afghanistan  2011        3.832               7.620           0.521   \n",
       "4  Afghanistan  2012        3.783               7.705           0.521   \n",
       "\n",
       "   Healthy life expectancy at birth  Freedom to make life choices  Generosity  \\\n",
       "0                             50.80                         0.718       0.168   \n",
       "1                             51.20                         0.679       0.190   \n",
       "2                             51.60                         0.600       0.121   \n",
       "3                             51.92                         0.496       0.162   \n",
       "4                             52.24                         0.531       0.236   \n",
       "\n",
       "   Perceptions of corruption  Positive affect  Negative affect  \n",
       "0                      0.882            0.518            0.258  \n",
       "1                      0.850            0.584            0.237  \n",
       "2                      0.707            0.618            0.275  \n",
       "3                      0.731            0.611            0.267  \n",
       "4                      0.776            0.710            0.268  "
      ]
     },
     "execution_count": 3,
     "metadata": {},
     "output_type": "execute_result"
    }
   ],
   "source": [
    "df = pd.read_csv(\"/kaggle/input/world-happiness-report-2021/world-happiness-report.csv\")\n",
    "df.head()"
   ]
  },
  {
   "cell_type": "code",
   "execution_count": 4,
   "id": "fa5823e7",
   "metadata": {
    "execution": {
     "iopub.execute_input": "2023-03-10T13:55:15.804399Z",
     "iopub.status.busy": "2023-03-10T13:55:15.804007Z",
     "iopub.status.idle": "2023-03-10T13:55:15.822643Z",
     "shell.execute_reply": "2023-03-10T13:55:15.821373Z"
    },
    "papermill": {
     "duration": 0.028718,
     "end_time": "2023-03-10T13:55:15.825193",
     "exception": false,
     "start_time": "2023-03-10T13:55:15.796475",
     "status": "completed"
    },
    "tags": []
   },
   "outputs": [
    {
     "data": {
      "text/html": [
       "<div>\n",
       "<style scoped>\n",
       "    .dataframe tbody tr th:only-of-type {\n",
       "        vertical-align: middle;\n",
       "    }\n",
       "\n",
       "    .dataframe tbody tr th {\n",
       "        vertical-align: top;\n",
       "    }\n",
       "\n",
       "    .dataframe thead th {\n",
       "        text-align: right;\n",
       "    }\n",
       "</style>\n",
       "<table border=\"1\" class=\"dataframe\">\n",
       "  <thead>\n",
       "    <tr style=\"text-align: right;\">\n",
       "      <th></th>\n",
       "      <th>Country name</th>\n",
       "      <th>year</th>\n",
       "      <th>Life Ladder</th>\n",
       "      <th>Log GDP per capita</th>\n",
       "      <th>Social support</th>\n",
       "      <th>Healthy life expectancy at birth</th>\n",
       "      <th>Freedom to make life choices</th>\n",
       "      <th>Generosity</th>\n",
       "      <th>Perceptions of corruption</th>\n",
       "      <th>Positive affect</th>\n",
       "      <th>Negative affect</th>\n",
       "    </tr>\n",
       "  </thead>\n",
       "  <tbody>\n",
       "    <tr>\n",
       "      <th>1944</th>\n",
       "      <td>Zimbabwe</td>\n",
       "      <td>2016</td>\n",
       "      <td>3.735</td>\n",
       "      <td>7.984</td>\n",
       "      <td>0.768</td>\n",
       "      <td>54.4</td>\n",
       "      <td>0.733</td>\n",
       "      <td>-0.095</td>\n",
       "      <td>0.724</td>\n",
       "      <td>0.738</td>\n",
       "      <td>0.209</td>\n",
       "    </tr>\n",
       "    <tr>\n",
       "      <th>1945</th>\n",
       "      <td>Zimbabwe</td>\n",
       "      <td>2017</td>\n",
       "      <td>3.638</td>\n",
       "      <td>8.016</td>\n",
       "      <td>0.754</td>\n",
       "      <td>55.0</td>\n",
       "      <td>0.753</td>\n",
       "      <td>-0.098</td>\n",
       "      <td>0.751</td>\n",
       "      <td>0.806</td>\n",
       "      <td>0.224</td>\n",
       "    </tr>\n",
       "    <tr>\n",
       "      <th>1946</th>\n",
       "      <td>Zimbabwe</td>\n",
       "      <td>2018</td>\n",
       "      <td>3.616</td>\n",
       "      <td>8.049</td>\n",
       "      <td>0.775</td>\n",
       "      <td>55.6</td>\n",
       "      <td>0.763</td>\n",
       "      <td>-0.068</td>\n",
       "      <td>0.844</td>\n",
       "      <td>0.710</td>\n",
       "      <td>0.212</td>\n",
       "    </tr>\n",
       "    <tr>\n",
       "      <th>1947</th>\n",
       "      <td>Zimbabwe</td>\n",
       "      <td>2019</td>\n",
       "      <td>2.694</td>\n",
       "      <td>7.950</td>\n",
       "      <td>0.759</td>\n",
       "      <td>56.2</td>\n",
       "      <td>0.632</td>\n",
       "      <td>-0.064</td>\n",
       "      <td>0.831</td>\n",
       "      <td>0.716</td>\n",
       "      <td>0.235</td>\n",
       "    </tr>\n",
       "    <tr>\n",
       "      <th>1948</th>\n",
       "      <td>Zimbabwe</td>\n",
       "      <td>2020</td>\n",
       "      <td>3.160</td>\n",
       "      <td>7.829</td>\n",
       "      <td>0.717</td>\n",
       "      <td>56.8</td>\n",
       "      <td>0.643</td>\n",
       "      <td>-0.009</td>\n",
       "      <td>0.789</td>\n",
       "      <td>0.703</td>\n",
       "      <td>0.346</td>\n",
       "    </tr>\n",
       "  </tbody>\n",
       "</table>\n",
       "</div>"
      ],
      "text/plain": [
       "     Country name  year  Life Ladder  Log GDP per capita  Social support  \\\n",
       "1944     Zimbabwe  2016        3.735               7.984           0.768   \n",
       "1945     Zimbabwe  2017        3.638               8.016           0.754   \n",
       "1946     Zimbabwe  2018        3.616               8.049           0.775   \n",
       "1947     Zimbabwe  2019        2.694               7.950           0.759   \n",
       "1948     Zimbabwe  2020        3.160               7.829           0.717   \n",
       "\n",
       "      Healthy life expectancy at birth  Freedom to make life choices  \\\n",
       "1944                              54.4                         0.733   \n",
       "1945                              55.0                         0.753   \n",
       "1946                              55.6                         0.763   \n",
       "1947                              56.2                         0.632   \n",
       "1948                              56.8                         0.643   \n",
       "\n",
       "      Generosity  Perceptions of corruption  Positive affect  Negative affect  \n",
       "1944      -0.095                      0.724            0.738            0.209  \n",
       "1945      -0.098                      0.751            0.806            0.224  \n",
       "1946      -0.068                      0.844            0.710            0.212  \n",
       "1947      -0.064                      0.831            0.716            0.235  \n",
       "1948      -0.009                      0.789            0.703            0.346  "
      ]
     },
     "execution_count": 4,
     "metadata": {},
     "output_type": "execute_result"
    }
   ],
   "source": [
    "df.tail()"
   ]
  },
  {
   "cell_type": "code",
   "execution_count": 5,
   "id": "555a9c40",
   "metadata": {
    "execution": {
     "iopub.execute_input": "2023-03-10T13:55:15.839701Z",
     "iopub.status.busy": "2023-03-10T13:55:15.839275Z",
     "iopub.status.idle": "2023-03-10T13:55:15.846793Z",
     "shell.execute_reply": "2023-03-10T13:55:15.845674Z"
    },
    "papermill": {
     "duration": 0.017535,
     "end_time": "2023-03-10T13:55:15.849174",
     "exception": false,
     "start_time": "2023-03-10T13:55:15.831639",
     "status": "completed"
    },
    "tags": []
   },
   "outputs": [
    {
     "data": {
      "text/plain": [
       "(1949, 11)"
      ]
     },
     "execution_count": 5,
     "metadata": {},
     "output_type": "execute_result"
    }
   ],
   "source": [
    "df.shape"
   ]
  },
  {
   "cell_type": "code",
   "execution_count": 6,
   "id": "d7a9db46",
   "metadata": {
    "execution": {
     "iopub.execute_input": "2023-03-10T13:55:15.863380Z",
     "iopub.status.busy": "2023-03-10T13:55:15.862856Z",
     "iopub.status.idle": "2023-03-10T13:55:15.888450Z",
     "shell.execute_reply": "2023-03-10T13:55:15.886967Z"
    },
    "papermill": {
     "duration": 0.036159,
     "end_time": "2023-03-10T13:55:15.891569",
     "exception": false,
     "start_time": "2023-03-10T13:55:15.855410",
     "status": "completed"
    },
    "tags": []
   },
   "outputs": [
    {
     "name": "stdout",
     "output_type": "stream",
     "text": [
      "<class 'pandas.core.frame.DataFrame'>\n",
      "RangeIndex: 1949 entries, 0 to 1948\n",
      "Data columns (total 11 columns):\n",
      " #   Column                            Non-Null Count  Dtype  \n",
      "---  ------                            --------------  -----  \n",
      " 0   Country name                      1949 non-null   object \n",
      " 1   year                              1949 non-null   int64  \n",
      " 2   Life Ladder                       1949 non-null   float64\n",
      " 3   Log GDP per capita                1913 non-null   float64\n",
      " 4   Social support                    1936 non-null   float64\n",
      " 5   Healthy life expectancy at birth  1894 non-null   float64\n",
      " 6   Freedom to make life choices      1917 non-null   float64\n",
      " 7   Generosity                        1860 non-null   float64\n",
      " 8   Perceptions of corruption         1839 non-null   float64\n",
      " 9   Positive affect                   1927 non-null   float64\n",
      " 10  Negative affect                   1933 non-null   float64\n",
      "dtypes: float64(9), int64(1), object(1)\n",
      "memory usage: 167.6+ KB\n"
     ]
    }
   ],
   "source": [
    "df.info()"
   ]
  },
  {
   "cell_type": "code",
   "execution_count": 7,
   "id": "397e1e3c",
   "metadata": {
    "execution": {
     "iopub.execute_input": "2023-03-10T13:55:15.906519Z",
     "iopub.status.busy": "2023-03-10T13:55:15.905515Z",
     "iopub.status.idle": "2023-03-10T13:55:15.914359Z",
     "shell.execute_reply": "2023-03-10T13:55:15.913260Z"
    },
    "papermill": {
     "duration": 0.018677,
     "end_time": "2023-03-10T13:55:15.916738",
     "exception": false,
     "start_time": "2023-03-10T13:55:15.898061",
     "status": "completed"
    },
    "tags": []
   },
   "outputs": [
    {
     "data": {
      "text/plain": [
       "Country name                          0\n",
       "year                                  0\n",
       "Life Ladder                           0\n",
       "Log GDP per capita                   36\n",
       "Social support                       13\n",
       "Healthy life expectancy at birth     55\n",
       "Freedom to make life choices         32\n",
       "Generosity                           89\n",
       "Perceptions of corruption           110\n",
       "Positive affect                      22\n",
       "Negative affect                      16\n",
       "dtype: int64"
      ]
     },
     "execution_count": 7,
     "metadata": {},
     "output_type": "execute_result"
    }
   ],
   "source": [
    "df.isnull().sum()"
   ]
  },
  {
   "cell_type": "code",
   "execution_count": 8,
   "id": "8a3d4525",
   "metadata": {
    "execution": {
     "iopub.execute_input": "2023-03-10T13:55:15.931365Z",
     "iopub.status.busy": "2023-03-10T13:55:15.930972Z",
     "iopub.status.idle": "2023-03-10T13:55:15.943846Z",
     "shell.execute_reply": "2023-03-10T13:55:15.942528Z"
    },
    "papermill": {
     "duration": 0.023387,
     "end_time": "2023-03-10T13:55:15.946504",
     "exception": false,
     "start_time": "2023-03-10T13:55:15.923117",
     "status": "completed"
    },
    "tags": []
   },
   "outputs": [
    {
     "data": {
      "text/plain": [
       "Country name                         166\n",
       "year                                  16\n",
       "Life Ladder                         1553\n",
       "Log GDP per capita                  1500\n",
       "Social support                       455\n",
       "Healthy life expectancy at birth     828\n",
       "Freedom to make life choices         535\n",
       "Generosity                           609\n",
       "Perceptions of corruption            572\n",
       "Positive affect                      431\n",
       "Negative affect                      374\n",
       "dtype: int64"
      ]
     },
     "execution_count": 8,
     "metadata": {},
     "output_type": "execute_result"
    }
   ],
   "source": [
    "df.nunique()"
   ]
  },
  {
   "cell_type": "code",
   "execution_count": 9,
   "id": "178e1d91",
   "metadata": {
    "execution": {
     "iopub.execute_input": "2023-03-10T13:55:15.961709Z",
     "iopub.status.busy": "2023-03-10T13:55:15.961059Z",
     "iopub.status.idle": "2023-03-10T13:55:15.996139Z",
     "shell.execute_reply": "2023-03-10T13:55:15.994875Z"
    },
    "papermill": {
     "duration": 0.045197,
     "end_time": "2023-03-10T13:55:15.998457",
     "exception": false,
     "start_time": "2023-03-10T13:55:15.953260",
     "status": "completed"
    },
    "tags": []
   },
   "outputs": [
    {
     "data": {
      "text/html": [
       "<div>\n",
       "<style scoped>\n",
       "    .dataframe tbody tr th:only-of-type {\n",
       "        vertical-align: middle;\n",
       "    }\n",
       "\n",
       "    .dataframe tbody tr th {\n",
       "        vertical-align: top;\n",
       "    }\n",
       "\n",
       "    .dataframe thead th {\n",
       "        text-align: right;\n",
       "    }\n",
       "</style>\n",
       "<table border=\"1\" class=\"dataframe\">\n",
       "  <thead>\n",
       "    <tr style=\"text-align: right;\">\n",
       "      <th></th>\n",
       "      <th>Country name</th>\n",
       "      <th>Regional indicator</th>\n",
       "      <th>Ladder score</th>\n",
       "      <th>Standard error of ladder score</th>\n",
       "      <th>upperwhisker</th>\n",
       "      <th>lowerwhisker</th>\n",
       "      <th>Logged GDP per capita</th>\n",
       "      <th>Social support</th>\n",
       "      <th>Healthy life expectancy</th>\n",
       "      <th>Freedom to make life choices</th>\n",
       "      <th>Generosity</th>\n",
       "      <th>Perceptions of corruption</th>\n",
       "      <th>Ladder score in Dystopia</th>\n",
       "      <th>Explained by: Log GDP per capita</th>\n",
       "      <th>Explained by: Social support</th>\n",
       "      <th>Explained by: Healthy life expectancy</th>\n",
       "      <th>Explained by: Freedom to make life choices</th>\n",
       "      <th>Explained by: Generosity</th>\n",
       "      <th>Explained by: Perceptions of corruption</th>\n",
       "      <th>Dystopia + residual</th>\n",
       "    </tr>\n",
       "  </thead>\n",
       "  <tbody>\n",
       "    <tr>\n",
       "      <th>0</th>\n",
       "      <td>Finland</td>\n",
       "      <td>Western Europe</td>\n",
       "      <td>7.842</td>\n",
       "      <td>0.032</td>\n",
       "      <td>7.904</td>\n",
       "      <td>7.780</td>\n",
       "      <td>10.775</td>\n",
       "      <td>0.954</td>\n",
       "      <td>72.0</td>\n",
       "      <td>0.949</td>\n",
       "      <td>-0.098</td>\n",
       "      <td>0.186</td>\n",
       "      <td>2.43</td>\n",
       "      <td>1.446</td>\n",
       "      <td>1.106</td>\n",
       "      <td>0.741</td>\n",
       "      <td>0.691</td>\n",
       "      <td>0.124</td>\n",
       "      <td>0.481</td>\n",
       "      <td>3.253</td>\n",
       "    </tr>\n",
       "    <tr>\n",
       "      <th>1</th>\n",
       "      <td>Denmark</td>\n",
       "      <td>Western Europe</td>\n",
       "      <td>7.620</td>\n",
       "      <td>0.035</td>\n",
       "      <td>7.687</td>\n",
       "      <td>7.552</td>\n",
       "      <td>10.933</td>\n",
       "      <td>0.954</td>\n",
       "      <td>72.7</td>\n",
       "      <td>0.946</td>\n",
       "      <td>0.030</td>\n",
       "      <td>0.179</td>\n",
       "      <td>2.43</td>\n",
       "      <td>1.502</td>\n",
       "      <td>1.108</td>\n",
       "      <td>0.763</td>\n",
       "      <td>0.686</td>\n",
       "      <td>0.208</td>\n",
       "      <td>0.485</td>\n",
       "      <td>2.868</td>\n",
       "    </tr>\n",
       "    <tr>\n",
       "      <th>2</th>\n",
       "      <td>Switzerland</td>\n",
       "      <td>Western Europe</td>\n",
       "      <td>7.571</td>\n",
       "      <td>0.036</td>\n",
       "      <td>7.643</td>\n",
       "      <td>7.500</td>\n",
       "      <td>11.117</td>\n",
       "      <td>0.942</td>\n",
       "      <td>74.4</td>\n",
       "      <td>0.919</td>\n",
       "      <td>0.025</td>\n",
       "      <td>0.292</td>\n",
       "      <td>2.43</td>\n",
       "      <td>1.566</td>\n",
       "      <td>1.079</td>\n",
       "      <td>0.816</td>\n",
       "      <td>0.653</td>\n",
       "      <td>0.204</td>\n",
       "      <td>0.413</td>\n",
       "      <td>2.839</td>\n",
       "    </tr>\n",
       "    <tr>\n",
       "      <th>3</th>\n",
       "      <td>Iceland</td>\n",
       "      <td>Western Europe</td>\n",
       "      <td>7.554</td>\n",
       "      <td>0.059</td>\n",
       "      <td>7.670</td>\n",
       "      <td>7.438</td>\n",
       "      <td>10.878</td>\n",
       "      <td>0.983</td>\n",
       "      <td>73.0</td>\n",
       "      <td>0.955</td>\n",
       "      <td>0.160</td>\n",
       "      <td>0.673</td>\n",
       "      <td>2.43</td>\n",
       "      <td>1.482</td>\n",
       "      <td>1.172</td>\n",
       "      <td>0.772</td>\n",
       "      <td>0.698</td>\n",
       "      <td>0.293</td>\n",
       "      <td>0.170</td>\n",
       "      <td>2.967</td>\n",
       "    </tr>\n",
       "    <tr>\n",
       "      <th>4</th>\n",
       "      <td>Netherlands</td>\n",
       "      <td>Western Europe</td>\n",
       "      <td>7.464</td>\n",
       "      <td>0.027</td>\n",
       "      <td>7.518</td>\n",
       "      <td>7.410</td>\n",
       "      <td>10.932</td>\n",
       "      <td>0.942</td>\n",
       "      <td>72.4</td>\n",
       "      <td>0.913</td>\n",
       "      <td>0.175</td>\n",
       "      <td>0.338</td>\n",
       "      <td>2.43</td>\n",
       "      <td>1.501</td>\n",
       "      <td>1.079</td>\n",
       "      <td>0.753</td>\n",
       "      <td>0.647</td>\n",
       "      <td>0.302</td>\n",
       "      <td>0.384</td>\n",
       "      <td>2.798</td>\n",
       "    </tr>\n",
       "  </tbody>\n",
       "</table>\n",
       "</div>"
      ],
      "text/plain": [
       "  Country name Regional indicator  Ladder score  \\\n",
       "0      Finland     Western Europe         7.842   \n",
       "1      Denmark     Western Europe         7.620   \n",
       "2  Switzerland     Western Europe         7.571   \n",
       "3      Iceland     Western Europe         7.554   \n",
       "4  Netherlands     Western Europe         7.464   \n",
       "\n",
       "   Standard error of ladder score  upperwhisker  lowerwhisker  \\\n",
       "0                           0.032         7.904         7.780   \n",
       "1                           0.035         7.687         7.552   \n",
       "2                           0.036         7.643         7.500   \n",
       "3                           0.059         7.670         7.438   \n",
       "4                           0.027         7.518         7.410   \n",
       "\n",
       "   Logged GDP per capita  Social support  Healthy life expectancy  \\\n",
       "0                 10.775           0.954                     72.0   \n",
       "1                 10.933           0.954                     72.7   \n",
       "2                 11.117           0.942                     74.4   \n",
       "3                 10.878           0.983                     73.0   \n",
       "4                 10.932           0.942                     72.4   \n",
       "\n",
       "   Freedom to make life choices  Generosity  Perceptions of corruption  \\\n",
       "0                         0.949      -0.098                      0.186   \n",
       "1                         0.946       0.030                      0.179   \n",
       "2                         0.919       0.025                      0.292   \n",
       "3                         0.955       0.160                      0.673   \n",
       "4                         0.913       0.175                      0.338   \n",
       "\n",
       "   Ladder score in Dystopia  Explained by: Log GDP per capita  \\\n",
       "0                      2.43                             1.446   \n",
       "1                      2.43                             1.502   \n",
       "2                      2.43                             1.566   \n",
       "3                      2.43                             1.482   \n",
       "4                      2.43                             1.501   \n",
       "\n",
       "   Explained by: Social support  Explained by: Healthy life expectancy  \\\n",
       "0                         1.106                                  0.741   \n",
       "1                         1.108                                  0.763   \n",
       "2                         1.079                                  0.816   \n",
       "3                         1.172                                  0.772   \n",
       "4                         1.079                                  0.753   \n",
       "\n",
       "   Explained by: Freedom to make life choices  Explained by: Generosity  \\\n",
       "0                                       0.691                     0.124   \n",
       "1                                       0.686                     0.208   \n",
       "2                                       0.653                     0.204   \n",
       "3                                       0.698                     0.293   \n",
       "4                                       0.647                     0.302   \n",
       "\n",
       "   Explained by: Perceptions of corruption  Dystopia + residual  \n",
       "0                                    0.481                3.253  \n",
       "1                                    0.485                2.868  \n",
       "2                                    0.413                2.839  \n",
       "3                                    0.170                2.967  \n",
       "4                                    0.384                2.798  "
      ]
     },
     "execution_count": 9,
     "metadata": {},
     "output_type": "execute_result"
    }
   ],
   "source": [
    "df2021 = pd.read_csv(\"/kaggle/input/world-happiness-report-2021/world-happiness-report-2021.csv\")\n",
    "df2021.head()"
   ]
  },
  {
   "cell_type": "code",
   "execution_count": 10,
   "id": "ced0edc8",
   "metadata": {
    "execution": {
     "iopub.execute_input": "2023-03-10T13:55:16.014749Z",
     "iopub.status.busy": "2023-03-10T13:55:16.014017Z",
     "iopub.status.idle": "2023-03-10T13:55:16.039539Z",
     "shell.execute_reply": "2023-03-10T13:55:16.038352Z"
    },
    "papermill": {
     "duration": 0.036506,
     "end_time": "2023-03-10T13:55:16.042128",
     "exception": false,
     "start_time": "2023-03-10T13:55:16.005622",
     "status": "completed"
    },
    "tags": []
   },
   "outputs": [
    {
     "data": {
      "text/html": [
       "<div>\n",
       "<style scoped>\n",
       "    .dataframe tbody tr th:only-of-type {\n",
       "        vertical-align: middle;\n",
       "    }\n",
       "\n",
       "    .dataframe tbody tr th {\n",
       "        vertical-align: top;\n",
       "    }\n",
       "\n",
       "    .dataframe thead th {\n",
       "        text-align: right;\n",
       "    }\n",
       "</style>\n",
       "<table border=\"1\" class=\"dataframe\">\n",
       "  <thead>\n",
       "    <tr style=\"text-align: right;\">\n",
       "      <th></th>\n",
       "      <th>Country name</th>\n",
       "      <th>Regional indicator</th>\n",
       "      <th>Ladder score</th>\n",
       "      <th>Standard error of ladder score</th>\n",
       "      <th>upperwhisker</th>\n",
       "      <th>lowerwhisker</th>\n",
       "      <th>Logged GDP per capita</th>\n",
       "      <th>Social support</th>\n",
       "      <th>Healthy life expectancy</th>\n",
       "      <th>Freedom to make life choices</th>\n",
       "      <th>Generosity</th>\n",
       "      <th>Perceptions of corruption</th>\n",
       "      <th>Ladder score in Dystopia</th>\n",
       "      <th>Explained by: Log GDP per capita</th>\n",
       "      <th>Explained by: Social support</th>\n",
       "      <th>Explained by: Healthy life expectancy</th>\n",
       "      <th>Explained by: Freedom to make life choices</th>\n",
       "      <th>Explained by: Generosity</th>\n",
       "      <th>Explained by: Perceptions of corruption</th>\n",
       "      <th>Dystopia + residual</th>\n",
       "    </tr>\n",
       "  </thead>\n",
       "  <tbody>\n",
       "    <tr>\n",
       "      <th>144</th>\n",
       "      <td>Lesotho</td>\n",
       "      <td>Sub-Saharan Africa</td>\n",
       "      <td>3.512</td>\n",
       "      <td>0.120</td>\n",
       "      <td>3.748</td>\n",
       "      <td>3.276</td>\n",
       "      <td>7.926</td>\n",
       "      <td>0.787</td>\n",
       "      <td>48.700</td>\n",
       "      <td>0.715</td>\n",
       "      <td>-0.131</td>\n",
       "      <td>0.915</td>\n",
       "      <td>2.43</td>\n",
       "      <td>0.451</td>\n",
       "      <td>0.731</td>\n",
       "      <td>0.007</td>\n",
       "      <td>0.405</td>\n",
       "      <td>0.103</td>\n",
       "      <td>0.015</td>\n",
       "      <td>1.800</td>\n",
       "    </tr>\n",
       "    <tr>\n",
       "      <th>145</th>\n",
       "      <td>Botswana</td>\n",
       "      <td>Sub-Saharan Africa</td>\n",
       "      <td>3.467</td>\n",
       "      <td>0.074</td>\n",
       "      <td>3.611</td>\n",
       "      <td>3.322</td>\n",
       "      <td>9.782</td>\n",
       "      <td>0.784</td>\n",
       "      <td>59.269</td>\n",
       "      <td>0.824</td>\n",
       "      <td>-0.246</td>\n",
       "      <td>0.801</td>\n",
       "      <td>2.43</td>\n",
       "      <td>1.099</td>\n",
       "      <td>0.724</td>\n",
       "      <td>0.340</td>\n",
       "      <td>0.539</td>\n",
       "      <td>0.027</td>\n",
       "      <td>0.088</td>\n",
       "      <td>0.648</td>\n",
       "    </tr>\n",
       "    <tr>\n",
       "      <th>146</th>\n",
       "      <td>Rwanda</td>\n",
       "      <td>Sub-Saharan Africa</td>\n",
       "      <td>3.415</td>\n",
       "      <td>0.068</td>\n",
       "      <td>3.548</td>\n",
       "      <td>3.282</td>\n",
       "      <td>7.676</td>\n",
       "      <td>0.552</td>\n",
       "      <td>61.400</td>\n",
       "      <td>0.897</td>\n",
       "      <td>0.061</td>\n",
       "      <td>0.167</td>\n",
       "      <td>2.43</td>\n",
       "      <td>0.364</td>\n",
       "      <td>0.202</td>\n",
       "      <td>0.407</td>\n",
       "      <td>0.627</td>\n",
       "      <td>0.227</td>\n",
       "      <td>0.493</td>\n",
       "      <td>1.095</td>\n",
       "    </tr>\n",
       "    <tr>\n",
       "      <th>147</th>\n",
       "      <td>Zimbabwe</td>\n",
       "      <td>Sub-Saharan Africa</td>\n",
       "      <td>3.145</td>\n",
       "      <td>0.058</td>\n",
       "      <td>3.259</td>\n",
       "      <td>3.030</td>\n",
       "      <td>7.943</td>\n",
       "      <td>0.750</td>\n",
       "      <td>56.201</td>\n",
       "      <td>0.677</td>\n",
       "      <td>-0.047</td>\n",
       "      <td>0.821</td>\n",
       "      <td>2.43</td>\n",
       "      <td>0.457</td>\n",
       "      <td>0.649</td>\n",
       "      <td>0.243</td>\n",
       "      <td>0.359</td>\n",
       "      <td>0.157</td>\n",
       "      <td>0.075</td>\n",
       "      <td>1.205</td>\n",
       "    </tr>\n",
       "    <tr>\n",
       "      <th>148</th>\n",
       "      <td>Afghanistan</td>\n",
       "      <td>South Asia</td>\n",
       "      <td>2.523</td>\n",
       "      <td>0.038</td>\n",
       "      <td>2.596</td>\n",
       "      <td>2.449</td>\n",
       "      <td>7.695</td>\n",
       "      <td>0.463</td>\n",
       "      <td>52.493</td>\n",
       "      <td>0.382</td>\n",
       "      <td>-0.102</td>\n",
       "      <td>0.924</td>\n",
       "      <td>2.43</td>\n",
       "      <td>0.370</td>\n",
       "      <td>0.000</td>\n",
       "      <td>0.126</td>\n",
       "      <td>0.000</td>\n",
       "      <td>0.122</td>\n",
       "      <td>0.010</td>\n",
       "      <td>1.895</td>\n",
       "    </tr>\n",
       "  </tbody>\n",
       "</table>\n",
       "</div>"
      ],
      "text/plain": [
       "    Country name  Regional indicator  Ladder score  \\\n",
       "144      Lesotho  Sub-Saharan Africa         3.512   \n",
       "145     Botswana  Sub-Saharan Africa         3.467   \n",
       "146       Rwanda  Sub-Saharan Africa         3.415   \n",
       "147     Zimbabwe  Sub-Saharan Africa         3.145   \n",
       "148  Afghanistan          South Asia         2.523   \n",
       "\n",
       "     Standard error of ladder score  upperwhisker  lowerwhisker  \\\n",
       "144                           0.120         3.748         3.276   \n",
       "145                           0.074         3.611         3.322   \n",
       "146                           0.068         3.548         3.282   \n",
       "147                           0.058         3.259         3.030   \n",
       "148                           0.038         2.596         2.449   \n",
       "\n",
       "     Logged GDP per capita  Social support  Healthy life expectancy  \\\n",
       "144                  7.926           0.787                   48.700   \n",
       "145                  9.782           0.784                   59.269   \n",
       "146                  7.676           0.552                   61.400   \n",
       "147                  7.943           0.750                   56.201   \n",
       "148                  7.695           0.463                   52.493   \n",
       "\n",
       "     Freedom to make life choices  Generosity  Perceptions of corruption  \\\n",
       "144                         0.715      -0.131                      0.915   \n",
       "145                         0.824      -0.246                      0.801   \n",
       "146                         0.897       0.061                      0.167   \n",
       "147                         0.677      -0.047                      0.821   \n",
       "148                         0.382      -0.102                      0.924   \n",
       "\n",
       "     Ladder score in Dystopia  Explained by: Log GDP per capita  \\\n",
       "144                      2.43                             0.451   \n",
       "145                      2.43                             1.099   \n",
       "146                      2.43                             0.364   \n",
       "147                      2.43                             0.457   \n",
       "148                      2.43                             0.370   \n",
       "\n",
       "     Explained by: Social support  Explained by: Healthy life expectancy  \\\n",
       "144                         0.731                                  0.007   \n",
       "145                         0.724                                  0.340   \n",
       "146                         0.202                                  0.407   \n",
       "147                         0.649                                  0.243   \n",
       "148                         0.000                                  0.126   \n",
       "\n",
       "     Explained by: Freedom to make life choices  Explained by: Generosity  \\\n",
       "144                                       0.405                     0.103   \n",
       "145                                       0.539                     0.027   \n",
       "146                                       0.627                     0.227   \n",
       "147                                       0.359                     0.157   \n",
       "148                                       0.000                     0.122   \n",
       "\n",
       "     Explained by: Perceptions of corruption  Dystopia + residual  \n",
       "144                                    0.015                1.800  \n",
       "145                                    0.088                0.648  \n",
       "146                                    0.493                1.095  \n",
       "147                                    0.075                1.205  \n",
       "148                                    0.010                1.895  "
      ]
     },
     "execution_count": 10,
     "metadata": {},
     "output_type": "execute_result"
    }
   ],
   "source": [
    "df2021.tail()"
   ]
  },
  {
   "cell_type": "code",
   "execution_count": 11,
   "id": "0b7734ad",
   "metadata": {
    "execution": {
     "iopub.execute_input": "2023-03-10T13:55:16.058783Z",
     "iopub.status.busy": "2023-03-10T13:55:16.058375Z",
     "iopub.status.idle": "2023-03-10T13:55:16.064603Z",
     "shell.execute_reply": "2023-03-10T13:55:16.063662Z"
    },
    "papermill": {
     "duration": 0.017207,
     "end_time": "2023-03-10T13:55:16.066785",
     "exception": false,
     "start_time": "2023-03-10T13:55:16.049578",
     "status": "completed"
    },
    "tags": []
   },
   "outputs": [
    {
     "data": {
      "text/plain": [
       "(149, 20)"
      ]
     },
     "execution_count": 11,
     "metadata": {},
     "output_type": "execute_result"
    }
   ],
   "source": [
    "df2021.shape"
   ]
  },
  {
   "cell_type": "code",
   "execution_count": 12,
   "id": "a40d66d1",
   "metadata": {
    "execution": {
     "iopub.execute_input": "2023-03-10T13:55:16.085169Z",
     "iopub.status.busy": "2023-03-10T13:55:16.084162Z",
     "iopub.status.idle": "2023-03-10T13:55:16.097702Z",
     "shell.execute_reply": "2023-03-10T13:55:16.096273Z"
    },
    "papermill": {
     "duration": 0.025135,
     "end_time": "2023-03-10T13:55:16.100295",
     "exception": false,
     "start_time": "2023-03-10T13:55:16.075160",
     "status": "completed"
    },
    "tags": []
   },
   "outputs": [
    {
     "name": "stdout",
     "output_type": "stream",
     "text": [
      "<class 'pandas.core.frame.DataFrame'>\n",
      "RangeIndex: 149 entries, 0 to 148\n",
      "Data columns (total 20 columns):\n",
      " #   Column                                      Non-Null Count  Dtype  \n",
      "---  ------                                      --------------  -----  \n",
      " 0   Country name                                149 non-null    object \n",
      " 1   Regional indicator                          149 non-null    object \n",
      " 2   Ladder score                                149 non-null    float64\n",
      " 3   Standard error of ladder score              149 non-null    float64\n",
      " 4   upperwhisker                                149 non-null    float64\n",
      " 5   lowerwhisker                                149 non-null    float64\n",
      " 6   Logged GDP per capita                       149 non-null    float64\n",
      " 7   Social support                              149 non-null    float64\n",
      " 8   Healthy life expectancy                     149 non-null    float64\n",
      " 9   Freedom to make life choices                149 non-null    float64\n",
      " 10  Generosity                                  149 non-null    float64\n",
      " 11  Perceptions of corruption                   149 non-null    float64\n",
      " 12  Ladder score in Dystopia                    149 non-null    float64\n",
      " 13  Explained by: Log GDP per capita            149 non-null    float64\n",
      " 14  Explained by: Social support                149 non-null    float64\n",
      " 15  Explained by: Healthy life expectancy       149 non-null    float64\n",
      " 16  Explained by: Freedom to make life choices  149 non-null    float64\n",
      " 17  Explained by: Generosity                    149 non-null    float64\n",
      " 18  Explained by: Perceptions of corruption     149 non-null    float64\n",
      " 19  Dystopia + residual                         149 non-null    float64\n",
      "dtypes: float64(18), object(2)\n",
      "memory usage: 23.4+ KB\n"
     ]
    }
   ],
   "source": [
    "df2021.info()"
   ]
  },
  {
   "cell_type": "code",
   "execution_count": 13,
   "id": "085cb3ed",
   "metadata": {
    "execution": {
     "iopub.execute_input": "2023-03-10T13:55:16.117779Z",
     "iopub.status.busy": "2023-03-10T13:55:16.116958Z",
     "iopub.status.idle": "2023-03-10T13:55:16.126448Z",
     "shell.execute_reply": "2023-03-10T13:55:16.125484Z"
    },
    "papermill": {
     "duration": 0.020827,
     "end_time": "2023-03-10T13:55:16.128681",
     "exception": false,
     "start_time": "2023-03-10T13:55:16.107854",
     "status": "completed"
    },
    "tags": []
   },
   "outputs": [
    {
     "data": {
      "text/plain": [
       "Country name                                  0\n",
       "Regional indicator                            0\n",
       "Ladder score                                  0\n",
       "Standard error of ladder score                0\n",
       "upperwhisker                                  0\n",
       "lowerwhisker                                  0\n",
       "Logged GDP per capita                         0\n",
       "Social support                                0\n",
       "Healthy life expectancy                       0\n",
       "Freedom to make life choices                  0\n",
       "Generosity                                    0\n",
       "Perceptions of corruption                     0\n",
       "Ladder score in Dystopia                      0\n",
       "Explained by: Log GDP per capita              0\n",
       "Explained by: Social support                  0\n",
       "Explained by: Healthy life expectancy         0\n",
       "Explained by: Freedom to make life choices    0\n",
       "Explained by: Generosity                      0\n",
       "Explained by: Perceptions of corruption       0\n",
       "Dystopia + residual                           0\n",
       "dtype: int64"
      ]
     },
     "execution_count": 13,
     "metadata": {},
     "output_type": "execute_result"
    }
   ],
   "source": [
    "df2021.isnull().sum()"
   ]
  },
  {
   "cell_type": "code",
   "execution_count": 14,
   "id": "463e5db0",
   "metadata": {
    "execution": {
     "iopub.execute_input": "2023-03-10T13:55:16.146612Z",
     "iopub.status.busy": "2023-03-10T13:55:16.145886Z",
     "iopub.status.idle": "2023-03-10T13:55:16.155625Z",
     "shell.execute_reply": "2023-03-10T13:55:16.154708Z"
    },
    "papermill": {
     "duration": 0.021356,
     "end_time": "2023-03-10T13:55:16.157805",
     "exception": false,
     "start_time": "2023-03-10T13:55:16.136449",
     "status": "completed"
    },
    "tags": []
   },
   "outputs": [
    {
     "data": {
      "text/plain": [
       "Country name                                  149\n",
       "Regional indicator                             10\n",
       "Ladder score                                  147\n",
       "Standard error of ladder score                 65\n",
       "upperwhisker                                  146\n",
       "lowerwhisker                                  143\n",
       "Logged GDP per capita                         148\n",
       "Social support                                119\n",
       "Healthy life expectancy                       135\n",
       "Freedom to make life choices                  126\n",
       "Generosity                                    130\n",
       "Perceptions of corruption                     130\n",
       "Ladder score in Dystopia                        1\n",
       "Explained by: Log GDP per capita              138\n",
       "Explained by: Social support                  135\n",
       "Explained by: Healthy life expectancy         119\n",
       "Explained by: Freedom to make life choices    130\n",
       "Explained by: Generosity                      119\n",
       "Explained by: Perceptions of corruption       117\n",
       "Dystopia + residual                           142\n",
       "dtype: int64"
      ]
     },
     "execution_count": 14,
     "metadata": {},
     "output_type": "execute_result"
    }
   ],
   "source": [
    "df2021.nunique()"
   ]
  },
  {
   "cell_type": "code",
   "execution_count": 15,
   "id": "51527d2c",
   "metadata": {
    "execution": {
     "iopub.execute_input": "2023-03-10T13:55:16.175544Z",
     "iopub.status.busy": "2023-03-10T13:55:16.174863Z",
     "iopub.status.idle": "2023-03-10T13:55:16.184415Z",
     "shell.execute_reply": "2023-03-10T13:55:16.183534Z"
    },
    "papermill": {
     "duration": 0.021035,
     "end_time": "2023-03-10T13:55:16.186617",
     "exception": false,
     "start_time": "2023-03-10T13:55:16.165582",
     "status": "completed"
    },
    "tags": []
   },
   "outputs": [
    {
     "data": {
      "text/plain": [
       "Country name                                  149\n",
       "Regional indicator                             10\n",
       "Ladder score                                  147\n",
       "Standard error of ladder score                 65\n",
       "upperwhisker                                  146\n",
       "lowerwhisker                                  143\n",
       "Logged GDP per capita                         148\n",
       "Social support                                119\n",
       "Healthy life expectancy                       135\n",
       "Freedom to make life choices                  126\n",
       "Generosity                                    130\n",
       "Perceptions of corruption                     130\n",
       "Ladder score in Dystopia                        1\n",
       "Explained by: Log GDP per capita              138\n",
       "Explained by: Social support                  135\n",
       "Explained by: Healthy life expectancy         119\n",
       "Explained by: Freedom to make life choices    130\n",
       "Explained by: Generosity                      119\n",
       "Explained by: Perceptions of corruption       117\n",
       "Dystopia + residual                           142\n",
       "dtype: int64"
      ]
     },
     "execution_count": 15,
     "metadata": {},
     "output_type": "execute_result"
    }
   ],
   "source": [
    "df2021.nunique()"
   ]
  },
  {
   "cell_type": "code",
   "execution_count": 16,
   "id": "7c2f13dc",
   "metadata": {
    "execution": {
     "iopub.execute_input": "2023-03-10T13:55:16.204186Z",
     "iopub.status.busy": "2023-03-10T13:55:16.203751Z",
     "iopub.status.idle": "2023-03-10T13:55:16.211939Z",
     "shell.execute_reply": "2023-03-10T13:55:16.210638Z"
    },
    "papermill": {
     "duration": 0.019871,
     "end_time": "2023-03-10T13:55:16.214275",
     "exception": false,
     "start_time": "2023-03-10T13:55:16.194404",
     "status": "completed"
    },
    "tags": []
   },
   "outputs": [
    {
     "data": {
      "text/plain": [
       "array(['Finland', 'Denmark', 'Switzerland', 'Iceland', 'Netherlands',\n",
       "       'Norway', 'Sweden', 'Luxembourg', 'New Zealand', 'Austria',\n",
       "       'Australia', 'Israel', 'Germany', 'Canada', 'Ireland',\n",
       "       'Costa Rica', 'United Kingdom', 'Czech Republic', 'United States',\n",
       "       'Belgium', 'France', 'Bahrain', 'Malta',\n",
       "       'Taiwan Province of China', 'United Arab Emirates', 'Saudi Arabia',\n",
       "       'Spain', 'Italy', 'Slovenia', 'Guatemala', 'Uruguay', 'Singapore',\n",
       "       'Kosovo', 'Slovakia', 'Brazil', 'Mexico', 'Jamaica', 'Lithuania',\n",
       "       'Cyprus', 'Estonia', 'Panama', 'Uzbekistan', 'Chile', 'Poland',\n",
       "       'Kazakhstan', 'Romania', 'Kuwait', 'Serbia', 'El Salvador',\n",
       "       'Mauritius', 'Latvia', 'Colombia', 'Hungary', 'Thailand',\n",
       "       'Nicaragua', 'Japan', 'Argentina', 'Portugal', 'Honduras',\n",
       "       'Croatia', 'Philippines', 'South Korea', 'Peru',\n",
       "       'Bosnia and Herzegovina', 'Moldova', 'Ecuador', 'Kyrgyzstan',\n",
       "       'Greece', 'Bolivia', 'Mongolia', 'Paraguay', 'Montenegro',\n",
       "       'Dominican Republic', 'North Cyprus', 'Belarus', 'Russia',\n",
       "       'Hong Kong S.A.R. of China', 'Tajikistan', 'Vietnam', 'Libya',\n",
       "       'Malaysia', 'Indonesia', 'Congo (Brazzaville)', 'China',\n",
       "       'Ivory Coast', 'Armenia', 'Nepal', 'Bulgaria', 'Maldives',\n",
       "       'Azerbaijan', 'Cameroon', 'Senegal', 'Albania', 'North Macedonia',\n",
       "       'Ghana', 'Niger', 'Turkmenistan', 'Gambia', 'Benin', 'Laos',\n",
       "       'Bangladesh', 'Guinea', 'South Africa', 'Turkey', 'Pakistan',\n",
       "       'Morocco', 'Venezuela', 'Georgia', 'Algeria', 'Ukraine', 'Iraq',\n",
       "       'Gabon', 'Burkina Faso', 'Cambodia', 'Mozambique', 'Nigeria',\n",
       "       'Mali', 'Iran', 'Uganda', 'Liberia', 'Kenya', 'Tunisia', 'Lebanon',\n",
       "       'Namibia', 'Palestinian Territories', 'Myanmar', 'Jordan', 'Chad',\n",
       "       'Sri Lanka', 'Swaziland', 'Comoros', 'Egypt', 'Ethiopia',\n",
       "       'Mauritania', 'Madagascar', 'Togo', 'Zambia', 'Sierra Leone',\n",
       "       'India', 'Burundi', 'Yemen', 'Tanzania', 'Haiti', 'Malawi',\n",
       "       'Lesotho', 'Botswana', 'Rwanda', 'Zimbabwe', 'Afghanistan'],\n",
       "      dtype=object)"
      ]
     },
     "execution_count": 16,
     "metadata": {},
     "output_type": "execute_result"
    }
   ],
   "source": [
    "df2021['Country name'].unique()"
   ]
  },
  {
   "cell_type": "code",
   "execution_count": 17,
   "id": "8d294c98",
   "metadata": {
    "execution": {
     "iopub.execute_input": "2023-03-10T13:55:16.232666Z",
     "iopub.status.busy": "2023-03-10T13:55:16.231518Z",
     "iopub.status.idle": "2023-03-10T13:55:16.371074Z",
     "shell.execute_reply": "2023-03-10T13:55:16.369820Z"
    },
    "papermill": {
     "duration": 0.152506,
     "end_time": "2023-03-10T13:55:16.374820",
     "exception": false,
     "start_time": "2023-03-10T13:55:16.222314",
     "status": "completed"
    },
    "tags": []
   },
   "outputs": [],
   "source": [
    "from sklearn.preprocessing import LabelEncoder\n",
    "\n",
    "le = LabelEncoder()\n",
    "df2021[\"Regional indicator\"] = le.fit_transform(df2021[\"Regional indicator\"])\n"
   ]
  },
  {
   "cell_type": "code",
   "execution_count": 18,
   "id": "2c654a64",
   "metadata": {
    "execution": {
     "iopub.execute_input": "2023-03-10T13:55:16.393569Z",
     "iopub.status.busy": "2023-03-10T13:55:16.393181Z",
     "iopub.status.idle": "2023-03-10T13:55:16.571646Z",
     "shell.execute_reply": "2023-03-10T13:55:16.570359Z"
    },
    "papermill": {
     "duration": 0.190706,
     "end_time": "2023-03-10T13:55:16.574108",
     "exception": false,
     "start_time": "2023-03-10T13:55:16.383402",
     "status": "completed"
    },
    "tags": []
   },
   "outputs": [
    {
     "data": {
      "image/png": "[encoded data removed]",
      "text/plain": [
       "<Figure size 640x480 with 1 Axes>"
      ]
     },
     "metadata": {},
     "output_type": "display_data"
    }
   ],
   "source": [
    "\n",
    "# count regional indicator\n",
    "sns.countplot(df2021[\"Regional indicator\"])\n",
    "plt.xticks(rotation = 60)\n",
    "plt.show()\n"
   ]
  },
  {
   "cell_type": "code",
   "execution_count": 19,
   "id": "bff3d262",
   "metadata": {
    "execution": {
     "iopub.execute_input": "2023-03-10T13:55:16.593060Z",
     "iopub.status.busy": "2023-03-10T13:55:16.592559Z",
     "iopub.status.idle": "2023-03-10T13:55:16.744724Z",
     "shell.execute_reply": "2023-03-10T13:55:16.743456Z"
    },
    "papermill": {
     "duration": 0.164526,
     "end_time": "2023-03-10T13:55:16.746979",
     "exception": false,
     "start_time": "2023-03-10T13:55:16.582453",
     "status": "completed"
    },
    "tags": []
   },
   "outputs": [
    {
     "data": {
      "image/png": "[encoded data removed]",
      "text/plain": [
       "<Figure size 640x480 with 1 Axes>"
      ]
     },
     "metadata": {},
     "output_type": "display_data"
    }
   ],
   "source": [
    "# count regional indicator\n",
    "sns.countplot(df2021[\"Regional indicator\"])\n",
    "plt.xticks(rotation = 60)\n",
    "plt.show()"
   ]
  },
  {
   "cell_type": "code",
   "execution_count": 20,
   "id": "1e76b00e",
   "metadata": {
    "execution": {
     "iopub.execute_input": "2023-03-10T13:55:16.766135Z",
     "iopub.status.busy": "2023-03-10T13:55:16.765502Z",
     "iopub.status.idle": "2023-03-10T13:55:16.983933Z",
     "shell.execute_reply": "2023-03-10T13:55:16.982750Z"
    },
    "papermill": {
     "duration": 0.230855,
     "end_time": "2023-03-10T13:55:16.986344",
     "exception": false,
     "start_time": "2023-03-10T13:55:16.755489",
     "status": "completed"
    },
    "tags": []
   },
   "outputs": [
    {
     "data": {
      "image/png": "[encoded data removed]",
      "text/plain": [
       "<Figure size 640x480 with 1 Axes>"
      ]
     },
     "metadata": {},
     "output_type": "display_data"
    }
   ],
   "source": [
    "list_features = [\"Social support\", \"Freedom to make life choices\", \"Generosity\",\"Perceptions of corruption\"]\n",
    "sns.boxplot(data=df2021.loc[:, list_features], orient='v', palette='Set1')\n",
    "plt.xticks(rotation = 30)\n",
    "plt.show()"
   ]
  },
  {
   "cell_type": "code",
   "execution_count": 21,
   "id": "735c21e4",
   "metadata": {
    "execution": {
     "iopub.execute_input": "2023-03-10T13:55:17.006833Z",
     "iopub.status.busy": "2023-03-10T13:55:17.006393Z",
     "iopub.status.idle": "2023-03-10T13:55:17.172464Z",
     "shell.execute_reply": "2023-03-10T13:55:17.171175Z"
    },
    "papermill": {
     "duration": 0.179078,
     "end_time": "2023-03-10T13:55:17.174832",
     "exception": false,
     "start_time": "2023-03-10T13:55:16.995754",
     "status": "completed"
    },
    "tags": []
   },
   "outputs": [
    {
     "data": {
      "image/png": "[encoded data removed]",
      "text/plain": [
       "<Figure size 640x480 with 1 Axes>"
      ]
     },
     "metadata": {},
     "output_type": "display_data"
    }
   ],
   "source": [
    "# distribution of features set 2\n",
    "list_features = ['Ladder score', \"Logged GDP per capita\"]\n",
    "sns.boxplot(data = df2021.loc[:, list_features], orient='V', palette='Set1')\n",
    "plt.show()"
   ]
  },
  {
   "cell_type": "code",
   "execution_count": null,
   "id": "e31b8bea",
   "metadata": {
    "papermill": {
     "duration": 0.009084,
     "end_time": "2023-03-10T13:55:17.193496",
     "exception": false,
     "start_time": "2023-03-10T13:55:17.184412",
     "status": "completed"
    },
    "tags": []
   },
   "outputs": [],
   "source": []
  }
 ],
 "metadata": {
  "kernelspec": {
   "display_name": "Python 3",
   "language": "python",
   "name": "python3"
  },
  "language_info": {
   "codemirror_mode": {
    "name": "ipython",
    "version": 3
   },
   "file_extension": ".py",
   "mimetype": "text/x-python",
   "name": "python",
   "nbconvert_exporter": "python",
   "pygments_lexer": "ipython3",
   "version": "3.7.12"
  },
  "papermill": {
   "default_parameters": {},
   "duration": 13.217936,
   "end_time": "2023-03-10T13:55:17.925145",
   "environment_variables": {},
   "exception": null,
   "input_path": "__notebook__.ipynb",
   "output_path": "__notebook__.ipynb",
   "parameters": {},
   "start_time": "2023-03-10T13:55:04.707209",
   "version": "2.4.0"
  }
 },
 "nbformat": 4,
 "nbformat_minor": 5
}
