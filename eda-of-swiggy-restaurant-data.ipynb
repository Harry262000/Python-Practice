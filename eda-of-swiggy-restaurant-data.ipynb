{
 "cells": [
  {
   "cell_type": "code",
   "execution_count": 1,
   "id": "24174eaf",
   "metadata": {
    "_cell_guid": "b1076dfc-b9ad-4769-8c92-a6c4dae69d19",
    "_uuid": "8f2839f25d086af736a60e9eeb907d3b93b6e0e5",
    "execution": {
     "iopub.execute_input": "2023-05-06T12:25:13.754358Z",
     "iopub.status.busy": "2023-05-06T12:25:13.753844Z",
     "iopub.status.idle": "2023-05-06T12:25:13.776616Z",
     "shell.execute_reply": "2023-05-06T12:25:13.774981Z"
    },
    "papermill": {
     "duration": 0.035132,
     "end_time": "2023-05-06T12:25:13.778881",
     "exception": false,
     "start_time": "2023-05-06T12:25:13.743749",
     "status": "completed"
    },
    "tags": []
   },
   "outputs": [
    {
     "name": "stdout",
     "output_type": "stream",
     "text": [
      "/kaggle/input/swiggy-restaurants-dataset/data.json\n",
      "/kaggle/input/swiggy-restaurants-dataset/swiggy.csv\n"
     ]
    }
   ],
   "source": [
    "# This Python 3 environment comes with many helpful analytics libraries installed\n",
    "# It is defined by the kaggle/python Docker image: https://github.com/kaggle/docker-python\n",
    "# For example, here's several helpful packages to load\n",
    "\n",
    "import numpy as np # linear algebra\n",
    "import pandas as pd # data processing, CSV file I/O (e.g. pd.read_csv)\n",
    "\n",
    "# Input data files are available in the read-only \"../input/\" directory\n",
    "# For example, running this (by clicking run or pressing Shift+Enter) will list all files under the input directory\n",
    "\n",
    "import os\n",
    "for dirname, _, filenames in os.walk('/kaggle/input'):\n",
    "    for filename in filenames:\n",
    "        print(os.path.join(dirname, filename))\n",
    "\n",
    "# You can write up to 20GB to the current directory (/kaggle/working/) that gets preserved as output when you create a version using \"Save & Run All\" \n",
    "# You can also write temporary files to /kaggle/temp/, but they won't be saved outside of the current session"
   ]
  },
  {
   "cell_type": "code",
   "execution_count": 2,
   "id": "e352267d",
   "metadata": {
    "execution": {
     "iopub.execute_input": "2023-05-06T12:25:13.796614Z",
     "iopub.status.busy": "2023-05-06T12:25:13.796262Z",
     "iopub.status.idle": "2023-05-06T12:25:15.114469Z",
     "shell.execute_reply": "2023-05-06T12:25:15.113288Z"
    },
    "papermill": {
     "duration": 1.330111,
     "end_time": "2023-05-06T12:25:15.117105",
     "exception": false,
     "start_time": "2023-05-06T12:25:13.786994",
     "status": "completed"
    },
    "tags": []
   },
   "outputs": [
    {
     "name": "stderr",
     "output_type": "stream",
     "text": [
      "/opt/conda/lib/python3.10/site-packages/scipy/__init__.py:146: UserWarning: A NumPy version >=1.16.5 and <1.23.0 is required for this version of SciPy (detected version 1.23.5\n",
      "  warnings.warn(f\"A NumPy version >={np_minversion} and <{np_maxversion}\"\n"
     ]
    }
   ],
   "source": [
    "import matplotlib.pyplot as plt\n",
    "import seaborn as sns"
   ]
  },
  {
   "cell_type": "markdown",
   "id": "f462d534",
   "metadata": {
    "papermill": {
     "duration": 0.00765,
     "end_time": "2023-05-06T12:25:15.132839",
     "exception": false,
     "start_time": "2023-05-06T12:25:15.125189",
     "status": "completed"
    },
    "tags": []
   },
   "source": [
    "### Analyzing DataFrame"
   ]
  },
  {
   "cell_type": "code",
   "execution_count": 3,
   "id": "af56a2cc",
   "metadata": {
    "execution": {
     "iopub.execute_input": "2023-05-06T12:25:15.150405Z",
     "iopub.status.busy": "2023-05-06T12:25:15.150026Z",
     "iopub.status.idle": "2023-05-06T12:25:16.950851Z",
     "shell.execute_reply": "2023-05-06T12:25:16.950122Z"
    },
    "papermill": {
     "duration": 1.812073,
     "end_time": "2023-05-06T12:25:16.952791",
     "exception": false,
     "start_time": "2023-05-06T12:25:15.140718",
     "status": "completed"
    },
    "tags": []
   },
   "outputs": [
    {
     "data": {
      "text/html": [
       "<div>\n",
       "<style scoped>\n",
       "    .dataframe tbody tr th:only-of-type {\n",
       "        vertical-align: middle;\n",
       "    }\n",
       "\n",
       "    .dataframe tbody tr th {\n",
       "        vertical-align: top;\n",
       "    }\n",
       "\n",
       "    .dataframe thead th {\n",
       "        text-align: right;\n",
       "    }\n",
       "</style>\n",
       "<table border=\"1\" class=\"dataframe\">\n",
       "  <thead>\n",
       "    <tr style=\"text-align: right;\">\n",
       "      <th></th>\n",
       "      <th>id</th>\n",
       "      <th>name</th>\n",
       "      <th>city</th>\n",
       "      <th>rating</th>\n",
       "      <th>rating_count</th>\n",
       "      <th>cost</th>\n",
       "      <th>cuisine</th>\n",
       "      <th>lic_no</th>\n",
       "      <th>link</th>\n",
       "      <th>address</th>\n",
       "      <th>menu</th>\n",
       "    </tr>\n",
       "  </thead>\n",
       "  <tbody>\n",
       "    <tr>\n",
       "      <th>0</th>\n",
       "      <td>567335</td>\n",
       "      <td>AB FOODS POINT</td>\n",
       "      <td>Abohar</td>\n",
       "      <td>--</td>\n",
       "      <td>Too Few Ratings</td>\n",
       "      <td>₹ 200</td>\n",
       "      <td>Beverages,Pizzas</td>\n",
       "      <td>22122652000138</td>\n",
       "      <td>https://www.swiggy.com/restaurants/ab-foods-po...</td>\n",
       "      <td>AB FOODS POINT, NEAR RISHI NARANG DENTAL CLINI...</td>\n",
       "      <td>Menu/567335.json</td>\n",
       "    </tr>\n",
       "    <tr>\n",
       "      <th>1</th>\n",
       "      <td>531342</td>\n",
       "      <td>Janta Sweet House</td>\n",
       "      <td>Abohar</td>\n",
       "      <td>4.4</td>\n",
       "      <td>50+ ratings</td>\n",
       "      <td>₹ 200</td>\n",
       "      <td>Sweets,Bakery</td>\n",
       "      <td>12117201000112</td>\n",
       "      <td>https://www.swiggy.com/restaurants/janta-sweet...</td>\n",
       "      <td>Janta Sweet House, Bazar No.9, Circullar Road,...</td>\n",
       "      <td>Menu/531342.json</td>\n",
       "    </tr>\n",
       "    <tr>\n",
       "      <th>2</th>\n",
       "      <td>158203</td>\n",
       "      <td>theka coffee desi</td>\n",
       "      <td>Abohar</td>\n",
       "      <td>3.8</td>\n",
       "      <td>100+ ratings</td>\n",
       "      <td>₹ 100</td>\n",
       "      <td>Beverages</td>\n",
       "      <td>22121652000190</td>\n",
       "      <td>https://www.swiggy.com/restaurants/theka-coffe...</td>\n",
       "      <td>theka coffee desi, sahtiya sadan road city</td>\n",
       "      <td>Menu/158203.json</td>\n",
       "    </tr>\n",
       "    <tr>\n",
       "      <th>3</th>\n",
       "      <td>187912</td>\n",
       "      <td>Singh Hut</td>\n",
       "      <td>Abohar</td>\n",
       "      <td>3.7</td>\n",
       "      <td>20+ ratings</td>\n",
       "      <td>₹ 250</td>\n",
       "      <td>Fast Food,Indian</td>\n",
       "      <td>22119652000167</td>\n",
       "      <td>https://www.swiggy.com/restaurants/singh-hut-n...</td>\n",
       "      <td>Singh Hut, CIRCULAR ROAD NEAR NEHRU PARK ABOHAR</td>\n",
       "      <td>Menu/187912.json</td>\n",
       "    </tr>\n",
       "    <tr>\n",
       "      <th>4</th>\n",
       "      <td>543530</td>\n",
       "      <td>GRILL MASTERS</td>\n",
       "      <td>Abohar</td>\n",
       "      <td>--</td>\n",
       "      <td>Too Few Ratings</td>\n",
       "      <td>₹ 250</td>\n",
       "      <td>Italian-American,Fast Food</td>\n",
       "      <td>12122201000053</td>\n",
       "      <td>https://www.swiggy.com/restaurants/grill-maste...</td>\n",
       "      <td>GRILL MASTERS, ADA Heights, Abohar - Hanumanga...</td>\n",
       "      <td>Menu/543530.json</td>\n",
       "    </tr>\n",
       "  </tbody>\n",
       "</table>\n",
       "</div>"
      ],
      "text/plain": [
       "       id               name    city rating     rating_count   cost  \\\n",
       "0  567335     AB FOODS POINT  Abohar     --  Too Few Ratings  ₹ 200   \n",
       "1  531342  Janta Sweet House  Abohar    4.4      50+ ratings  ₹ 200   \n",
       "2  158203  theka coffee desi  Abohar    3.8     100+ ratings  ₹ 100   \n",
       "3  187912          Singh Hut  Abohar    3.7      20+ ratings  ₹ 250   \n",
       "4  543530      GRILL MASTERS  Abohar     --  Too Few Ratings  ₹ 250   \n",
       "\n",
       "                      cuisine          lic_no  \\\n",
       "0            Beverages,Pizzas  22122652000138   \n",
       "1               Sweets,Bakery  12117201000112   \n",
       "2                   Beverages  22121652000190   \n",
       "3            Fast Food,Indian  22119652000167   \n",
       "4  Italian-American,Fast Food  12122201000053   \n",
       "\n",
       "                                                link  \\\n",
       "0  https://www.swiggy.com/restaurants/ab-foods-po...   \n",
       "1  https://www.swiggy.com/restaurants/janta-sweet...   \n",
       "2  https://www.swiggy.com/restaurants/theka-coffe...   \n",
       "3  https://www.swiggy.com/restaurants/singh-hut-n...   \n",
       "4  https://www.swiggy.com/restaurants/grill-maste...   \n",
       "\n",
       "                                             address              menu  \n",
       "0  AB FOODS POINT, NEAR RISHI NARANG DENTAL CLINI...  Menu/567335.json  \n",
       "1  Janta Sweet House, Bazar No.9, Circullar Road,...  Menu/531342.json  \n",
       "2         theka coffee desi, sahtiya sadan road city  Menu/158203.json  \n",
       "3    Singh Hut, CIRCULAR ROAD NEAR NEHRU PARK ABOHAR  Menu/187912.json  \n",
       "4  GRILL MASTERS, ADA Heights, Abohar - Hanumanga...  Menu/543530.json  "
      ]
     },
     "execution_count": 3,
     "metadata": {},
     "output_type": "execute_result"
    }
   ],
   "source": [
    "df = pd.read_csv(\"/kaggle/input/swiggy-restaurants-dataset/swiggy.csv\")\n",
    "df.head()  # Reading Dataframe"
   ]
  },
  {
   "cell_type": "code",
   "execution_count": 4,
   "id": "4eaa9aeb",
   "metadata": {
    "execution": {
     "iopub.execute_input": "2023-05-06T12:25:16.971289Z",
     "iopub.status.busy": "2023-05-06T12:25:16.970605Z",
     "iopub.status.idle": "2023-05-06T12:25:16.985037Z",
     "shell.execute_reply": "2023-05-06T12:25:16.984014Z"
    },
    "papermill": {
     "duration": 0.026239,
     "end_time": "2023-05-06T12:25:16.987331",
     "exception": false,
     "start_time": "2023-05-06T12:25:16.961092",
     "status": "completed"
    },
    "tags": []
   },
   "outputs": [
    {
     "data": {
      "text/html": [
       "<div>\n",
       "<style scoped>\n",
       "    .dataframe tbody tr th:only-of-type {\n",
       "        vertical-align: middle;\n",
       "    }\n",
       "\n",
       "    .dataframe tbody tr th {\n",
       "        vertical-align: top;\n",
       "    }\n",
       "\n",
       "    .dataframe thead th {\n",
       "        text-align: right;\n",
       "    }\n",
       "</style>\n",
       "<table border=\"1\" class=\"dataframe\">\n",
       "  <thead>\n",
       "    <tr style=\"text-align: right;\">\n",
       "      <th></th>\n",
       "      <th>id</th>\n",
       "      <th>name</th>\n",
       "      <th>city</th>\n",
       "      <th>rating</th>\n",
       "      <th>rating_count</th>\n",
       "      <th>cost</th>\n",
       "      <th>cuisine</th>\n",
       "      <th>lic_no</th>\n",
       "      <th>link</th>\n",
       "      <th>address</th>\n",
       "      <th>menu</th>\n",
       "    </tr>\n",
       "  </thead>\n",
       "  <tbody>\n",
       "    <tr>\n",
       "      <th>148536</th>\n",
       "      <td>553122</td>\n",
       "      <td>The Food Delight</td>\n",
       "      <td>Yavatmal</td>\n",
       "      <td>--</td>\n",
       "      <td>Too Few Ratings</td>\n",
       "      <td>₹ 200</td>\n",
       "      <td>Fast Food,Snacks</td>\n",
       "      <td>21522053000452</td>\n",
       "      <td>https://www.swiggy.com/restaurants/the-food-de...</td>\n",
       "      <td>The Food Delight, 94MC+X35, New Singhania Naga...</td>\n",
       "      <td>Menu/553122.json</td>\n",
       "    </tr>\n",
       "    <tr>\n",
       "      <th>148537</th>\n",
       "      <td>562647</td>\n",
       "      <td>MAITRI FOODS &amp; BEVERAGES</td>\n",
       "      <td>Yavatmal</td>\n",
       "      <td>--</td>\n",
       "      <td>Too Few Ratings</td>\n",
       "      <td>₹ 300</td>\n",
       "      <td>Pizzas</td>\n",
       "      <td>license</td>\n",
       "      <td>https://www.swiggy.com/restaurants/maitri-food...</td>\n",
       "      <td>MAITRI FOODS &amp; BEVERAGES, POLIC MITRYA SOCIETY...</td>\n",
       "      <td>Menu/562647.json</td>\n",
       "    </tr>\n",
       "    <tr>\n",
       "      <th>148538</th>\n",
       "      <td>559435</td>\n",
       "      <td>Cafe Bella Ciao</td>\n",
       "      <td>Yavatmal</td>\n",
       "      <td>--</td>\n",
       "      <td>Too Few Ratings</td>\n",
       "      <td>₹ 300</td>\n",
       "      <td>Fast Food,Snacks</td>\n",
       "      <td>21522251000378</td>\n",
       "      <td>https://www.swiggy.com/restaurants/cafe-bella-...</td>\n",
       "      <td>Cafe Bella Ciao, SHOP NO 2 NEMANI MARKET SBI S...</td>\n",
       "      <td>Menu/559435.json</td>\n",
       "    </tr>\n",
       "    <tr>\n",
       "      <th>148539</th>\n",
       "      <td>418989</td>\n",
       "      <td>GRILL ZILLA</td>\n",
       "      <td>Yavatmal</td>\n",
       "      <td>--</td>\n",
       "      <td>Too Few Ratings</td>\n",
       "      <td>₹ 250</td>\n",
       "      <td>Continental</td>\n",
       "      <td>21521251000241</td>\n",
       "      <td>https://www.swiggy.com/restaurants/grill-zilla...</td>\n",
       "      <td>GRILL ZILLA, SHO NO 2/6, POSTEL GROUND CHOWPAT...</td>\n",
       "      <td>Menu/418989.json</td>\n",
       "    </tr>\n",
       "    <tr>\n",
       "      <th>148540</th>\n",
       "      <td>447770</td>\n",
       "      <td>Lazeez kitchen</td>\n",
       "      <td>Yavatmal</td>\n",
       "      <td>--</td>\n",
       "      <td>Too Few Ratings</td>\n",
       "      <td>₹ 200</td>\n",
       "      <td>Pizzas</td>\n",
       "      <td>21521251000634</td>\n",
       "      <td>https://www.swiggy.com/restaurants/lazeez-kitc...</td>\n",
       "      <td>Lazeez kitchen, 94G3+2RR, Wadgaon, Yavatmal, M...</td>\n",
       "      <td>Menu/447770.json</td>\n",
       "    </tr>\n",
       "  </tbody>\n",
       "</table>\n",
       "</div>"
      ],
      "text/plain": [
       "            id                      name      city rating     rating_count  \\\n",
       "148536  553122          The Food Delight  Yavatmal     --  Too Few Ratings   \n",
       "148537  562647  MAITRI FOODS & BEVERAGES  Yavatmal     --  Too Few Ratings   \n",
       "148538  559435           Cafe Bella Ciao  Yavatmal     --  Too Few Ratings   \n",
       "148539  418989               GRILL ZILLA  Yavatmal     --  Too Few Ratings   \n",
       "148540  447770            Lazeez kitchen  Yavatmal     --  Too Few Ratings   \n",
       "\n",
       "         cost           cuisine          lic_no  \\\n",
       "148536  ₹ 200  Fast Food,Snacks  21522053000452   \n",
       "148537  ₹ 300            Pizzas         license   \n",
       "148538  ₹ 300  Fast Food,Snacks  21522251000378   \n",
       "148539  ₹ 250       Continental  21521251000241   \n",
       "148540  ₹ 200            Pizzas  21521251000634   \n",
       "\n",
       "                                                     link  \\\n",
       "148536  https://www.swiggy.com/restaurants/the-food-de...   \n",
       "148537  https://www.swiggy.com/restaurants/maitri-food...   \n",
       "148538  https://www.swiggy.com/restaurants/cafe-bella-...   \n",
       "148539  https://www.swiggy.com/restaurants/grill-zilla...   \n",
       "148540  https://www.swiggy.com/restaurants/lazeez-kitc...   \n",
       "\n",
       "                                                  address              menu  \n",
       "148536  The Food Delight, 94MC+X35, New Singhania Naga...  Menu/553122.json  \n",
       "148537  MAITRI FOODS & BEVERAGES, POLIC MITRYA SOCIETY...  Menu/562647.json  \n",
       "148538  Cafe Bella Ciao, SHOP NO 2 NEMANI MARKET SBI S...  Menu/559435.json  \n",
       "148539  GRILL ZILLA, SHO NO 2/6, POSTEL GROUND CHOWPAT...  Menu/418989.json  \n",
       "148540  Lazeez kitchen, 94G3+2RR, Wadgaon, Yavatmal, M...  Menu/447770.json  "
      ]
     },
     "execution_count": 4,
     "metadata": {},
     "output_type": "execute_result"
    }
   ],
   "source": [
    "# Bottom View of Dataset\n",
    "df.tail() "
   ]
  },
  {
   "cell_type": "code",
   "execution_count": 5,
   "id": "7b28a48b",
   "metadata": {
    "execution": {
     "iopub.execute_input": "2023-05-06T12:25:17.007143Z",
     "iopub.status.busy": "2023-05-06T12:25:17.006136Z",
     "iopub.status.idle": "2023-05-06T12:25:17.011705Z",
     "shell.execute_reply": "2023-05-06T12:25:17.010991Z"
    },
    "papermill": {
     "duration": 0.017669,
     "end_time": "2023-05-06T12:25:17.013635",
     "exception": false,
     "start_time": "2023-05-06T12:25:16.995966",
     "status": "completed"
    },
    "tags": []
   },
   "outputs": [
    {
     "data": {
      "text/plain": [
       "(148541, 11)"
      ]
     },
     "execution_count": 5,
     "metadata": {},
     "output_type": "execute_result"
    }
   ],
   "source": [
    "# shape of DataFrame\n",
    "df.shape"
   ]
  },
  {
   "cell_type": "code",
   "execution_count": 6,
   "id": "7e46c94a",
   "metadata": {
    "execution": {
     "iopub.execute_input": "2023-05-06T12:25:17.033602Z",
     "iopub.status.busy": "2023-05-06T12:25:17.032976Z",
     "iopub.status.idle": "2023-05-06T12:25:17.271531Z",
     "shell.execute_reply": "2023-05-06T12:25:17.270378Z"
    },
    "papermill": {
     "duration": 0.251518,
     "end_time": "2023-05-06T12:25:17.273861",
     "exception": false,
     "start_time": "2023-05-06T12:25:17.022343",
     "status": "completed"
    },
    "tags": []
   },
   "outputs": [
    {
     "name": "stdout",
     "output_type": "stream",
     "text": [
      "<class 'pandas.core.frame.DataFrame'>\n",
      "RangeIndex: 148541 entries, 0 to 148540\n",
      "Data columns (total 11 columns):\n",
      " #   Column        Non-Null Count   Dtype \n",
      "---  ------        --------------   ----- \n",
      " 0   id            148541 non-null  int64 \n",
      " 1   name          148455 non-null  object\n",
      " 2   city          148541 non-null  object\n",
      " 3   rating        148455 non-null  object\n",
      " 4   rating_count  148455 non-null  object\n",
      " 5   cost          148410 non-null  object\n",
      " 6   cuisine       148442 non-null  object\n",
      " 7   lic_no        148312 non-null  object\n",
      " 8   link          148541 non-null  object\n",
      " 9   address       148455 non-null  object\n",
      " 10  menu          148541 non-null  object\n",
      "dtypes: int64(1), object(10)\n",
      "memory usage: 12.5+ MB\n"
     ]
    }
   ],
   "source": [
    "# Datatype of Dataframe columns\n",
    "df.info()"
   ]
  },
  {
   "cell_type": "code",
   "execution_count": 7,
   "id": "fd82c247",
   "metadata": {
    "execution": {
     "iopub.execute_input": "2023-05-06T12:25:17.293156Z",
     "iopub.status.busy": "2023-05-06T12:25:17.292773Z",
     "iopub.status.idle": "2023-05-06T12:25:17.516452Z",
     "shell.execute_reply": "2023-05-06T12:25:17.515345Z"
    },
    "papermill": {
     "duration": 0.236222,
     "end_time": "2023-05-06T12:25:17.518856",
     "exception": false,
     "start_time": "2023-05-06T12:25:17.282634",
     "status": "completed"
    },
    "tags": []
   },
   "outputs": [
    {
     "data": {
      "text/plain": [
       "id                0\n",
       "name             86\n",
       "city              0\n",
       "rating           86\n",
       "rating_count     86\n",
       "cost            131\n",
       "cuisine          99\n",
       "lic_no          229\n",
       "link              0\n",
       "address          86\n",
       "menu              0\n",
       "dtype: int64"
      ]
     },
     "execution_count": 7,
     "metadata": {},
     "output_type": "execute_result"
    }
   ],
   "source": [
    "# Checking all null values in Dataframe\n",
    "df.isnull().sum()"
   ]
  },
  {
   "cell_type": "code",
   "execution_count": 8,
   "id": "8029b536",
   "metadata": {
    "execution": {
     "iopub.execute_input": "2023-05-06T12:25:17.538365Z",
     "iopub.status.busy": "2023-05-06T12:25:17.537706Z",
     "iopub.status.idle": "2023-05-06T12:25:17.754727Z",
     "shell.execute_reply": "2023-05-06T12:25:17.753716Z"
    },
    "papermill": {
     "duration": 0.230121,
     "end_time": "2023-05-06T12:25:17.757839",
     "exception": false,
     "start_time": "2023-05-06T12:25:17.527718",
     "status": "completed"
    },
    "tags": []
   },
   "outputs": [
    {
     "data": {
      "text/plain": [
       "803"
      ]
     },
     "execution_count": 8,
     "metadata": {},
     "output_type": "execute_result"
    }
   ],
   "source": [
    "# Total null values count\n",
    "df.isnull().sum().sum()"
   ]
  },
  {
   "cell_type": "code",
   "execution_count": 9,
   "id": "739d6080",
   "metadata": {
    "execution": {
     "iopub.execute_input": "2023-05-06T12:25:17.777597Z",
     "iopub.status.busy": "2023-05-06T12:25:17.777089Z",
     "iopub.status.idle": "2023-05-06T12:25:18.020889Z",
     "shell.execute_reply": "2023-05-06T12:25:18.020022Z"
    },
    "papermill": {
     "duration": 0.256416,
     "end_time": "2023-05-06T12:25:18.023432",
     "exception": false,
     "start_time": "2023-05-06T12:25:17.767016",
     "status": "completed"
    },
    "tags": []
   },
   "outputs": [],
   "source": [
    "df = df.dropna()"
   ]
  },
  {
   "cell_type": "code",
   "execution_count": 10,
   "id": "a572994a",
   "metadata": {
    "execution": {
     "iopub.execute_input": "2023-05-06T12:25:18.043401Z",
     "iopub.status.busy": "2023-05-06T12:25:18.043019Z",
     "iopub.status.idle": "2023-05-06T12:25:18.049372Z",
     "shell.execute_reply": "2023-05-06T12:25:18.048400Z"
    },
    "papermill": {
     "duration": 0.018467,
     "end_time": "2023-05-06T12:25:18.051344",
     "exception": false,
     "start_time": "2023-05-06T12:25:18.032877",
     "status": "completed"
    },
    "tags": []
   },
   "outputs": [
    {
     "data": {
      "text/plain": [
       "(148255, 11)"
      ]
     },
     "execution_count": 10,
     "metadata": {},
     "output_type": "execute_result"
    }
   ],
   "source": [
    "# again shape of dataset checked\n",
    "df.shape"
   ]
  },
  {
   "cell_type": "code",
   "execution_count": 11,
   "id": "a221fe28",
   "metadata": {
    "execution": {
     "iopub.execute_input": "2023-05-06T12:25:18.071037Z",
     "iopub.status.busy": "2023-05-06T12:25:18.070646Z",
     "iopub.status.idle": "2023-05-06T12:25:18.408727Z",
     "shell.execute_reply": "2023-05-06T12:25:18.407584Z"
    },
    "papermill": {
     "duration": 0.350816,
     "end_time": "2023-05-06T12:25:18.411165",
     "exception": false,
     "start_time": "2023-05-06T12:25:18.060349",
     "status": "completed"
    },
    "tags": []
   },
   "outputs": [
    {
     "data": {
      "text/plain": [
       "0"
      ]
     },
     "execution_count": 11,
     "metadata": {},
     "output_type": "execute_result"
    }
   ],
   "source": [
    "# duplicate values checked\n",
    "df.duplicated().sum()"
   ]
  },
  {
   "cell_type": "code",
   "execution_count": 12,
   "id": "5be6a581",
   "metadata": {
    "execution": {
     "iopub.execute_input": "2023-05-06T12:25:18.432210Z",
     "iopub.status.busy": "2023-05-06T12:25:18.431821Z",
     "iopub.status.idle": "2023-05-06T12:25:18.447741Z",
     "shell.execute_reply": "2023-05-06T12:25:18.446822Z"
    },
    "papermill": {
     "duration": 0.029344,
     "end_time": "2023-05-06T12:25:18.449748",
     "exception": false,
     "start_time": "2023-05-06T12:25:18.420404",
     "status": "completed"
    },
    "tags": []
   },
   "outputs": [
    {
     "data": {
      "text/plain": [
       "Bikaner                 1665\n",
       "Noida-1                 1424\n",
       "Indirapuram,Delhi       1279\n",
       "BTM,Bangalore           1159\n",
       "Rohini,Delhi            1135\n",
       "                        ... \n",
       "Alwarpet,Chennai           1\n",
       "Naharlagun                 1\n",
       "Mahim Dadar,Mumbai         1\n",
       "Starbucks_BKC,Mumbai       1\n",
       "Rangpo                     1\n",
       "Name: city, Length: 821, dtype: int64"
      ]
     },
     "execution_count": 12,
     "metadata": {},
     "output_type": "execute_result"
    }
   ],
   "source": [
    "df['city'].value_counts()"
   ]
  },
  {
   "cell_type": "code",
   "execution_count": 13,
   "id": "1516249e",
   "metadata": {
    "execution": {
     "iopub.execute_input": "2023-05-06T12:25:18.469789Z",
     "iopub.status.busy": "2023-05-06T12:25:18.469426Z",
     "iopub.status.idle": "2023-05-06T12:25:18.799953Z",
     "shell.execute_reply": "2023-05-06T12:25:18.798962Z"
    },
    "papermill": {
     "duration": 0.343114,
     "end_time": "2023-05-06T12:25:18.802292",
     "exception": false,
     "start_time": "2023-05-06T12:25:18.459178",
     "status": "completed"
    },
    "tags": []
   },
   "outputs": [],
   "source": [
    "df['cost'] = df['cost'].str.split('₹').str[1]"
   ]
  },
  {
   "cell_type": "code",
   "execution_count": 14,
   "id": "9e3a57ed",
   "metadata": {
    "execution": {
     "iopub.execute_input": "2023-05-06T12:25:18.823055Z",
     "iopub.status.busy": "2023-05-06T12:25:18.822689Z",
     "iopub.status.idle": "2023-05-06T12:25:18.831068Z",
     "shell.execute_reply": "2023-05-06T12:25:18.830030Z"
    },
    "papermill": {
     "duration": 0.021188,
     "end_time": "2023-05-06T12:25:18.833082",
     "exception": false,
     "start_time": "2023-05-06T12:25:18.811894",
     "status": "completed"
    },
    "tags": []
   },
   "outputs": [
    {
     "data": {
      "text/plain": [
       "0          200\n",
       "1          200\n",
       "2          100\n",
       "3          250\n",
       "4          250\n",
       "          ... \n",
       "148536     200\n",
       "148537     300\n",
       "148538     300\n",
       "148539     250\n",
       "148540     200\n",
       "Name: cost, Length: 148255, dtype: object"
      ]
     },
     "execution_count": 14,
     "metadata": {},
     "output_type": "execute_result"
    }
   ],
   "source": [
    "df['cost']"
   ]
  },
  {
   "cell_type": "code",
   "execution_count": 15,
   "id": "ff423cb0",
   "metadata": {
    "execution": {
     "iopub.execute_input": "2023-05-06T12:25:18.853633Z",
     "iopub.status.busy": "2023-05-06T12:25:18.852772Z",
     "iopub.status.idle": "2023-05-06T12:25:18.875370Z",
     "shell.execute_reply": "2023-05-06T12:25:18.874264Z"
    },
    "papermill": {
     "duration": 0.035468,
     "end_time": "2023-05-06T12:25:18.877918",
     "exception": false,
     "start_time": "2023-05-06T12:25:18.842450",
     "status": "completed"
    },
    "tags": []
   },
   "outputs": [],
   "source": [
    "df['cost'] = df['cost'].astype(float)"
   ]
  },
  {
   "cell_type": "code",
   "execution_count": 16,
   "id": "8a6533c3",
   "metadata": {
    "execution": {
     "iopub.execute_input": "2023-05-06T12:25:18.898478Z",
     "iopub.status.busy": "2023-05-06T12:25:18.898099Z",
     "iopub.status.idle": "2023-05-06T12:25:18.905971Z",
     "shell.execute_reply": "2023-05-06T12:25:18.905007Z"
    },
    "papermill": {
     "duration": 0.020733,
     "end_time": "2023-05-06T12:25:18.908122",
     "exception": false,
     "start_time": "2023-05-06T12:25:18.887389",
     "status": "completed"
    },
    "tags": []
   },
   "outputs": [
    {
     "data": {
      "text/plain": [
       "0          --\n",
       "1         4.4\n",
       "2         3.8\n",
       "3         3.7\n",
       "4          --\n",
       "         ... \n",
       "148536     --\n",
       "148537     --\n",
       "148538     --\n",
       "148539     --\n",
       "148540     --\n",
       "Name: rating, Length: 148255, dtype: object"
      ]
     },
     "execution_count": 16,
     "metadata": {},
     "output_type": "execute_result"
    }
   ],
   "source": [
    "df['rating']"
   ]
  },
  {
   "cell_type": "code",
   "execution_count": 17,
   "id": "b868a3d3",
   "metadata": {
    "execution": {
     "iopub.execute_input": "2023-05-06T12:25:18.929294Z",
     "iopub.status.busy": "2023-05-06T12:25:18.928576Z",
     "iopub.status.idle": "2023-05-06T12:25:18.944053Z",
     "shell.execute_reply": "2023-05-06T12:25:18.943170Z"
    },
    "papermill": {
     "duration": 0.028488,
     "end_time": "2023-05-06T12:25:18.946179",
     "exception": false,
     "start_time": "2023-05-06T12:25:18.917691",
     "status": "completed"
    },
    "tags": []
   },
   "outputs": [
    {
     "data": {
      "text/plain": [
       "86912"
      ]
     },
     "execution_count": 17,
     "metadata": {},
     "output_type": "execute_result"
    }
   ],
   "source": [
    "df['rating'].value_counts()['--']"
   ]
  },
  {
   "cell_type": "code",
   "execution_count": 18,
   "id": "2f472e90",
   "metadata": {
    "execution": {
     "iopub.execute_input": "2023-05-06T12:25:18.967508Z",
     "iopub.status.busy": "2023-05-06T12:25:18.966543Z",
     "iopub.status.idle": "2023-05-06T12:25:18.978892Z",
     "shell.execute_reply": "2023-05-06T12:25:18.977798Z"
    },
    "papermill": {
     "duration": 0.025381,
     "end_time": "2023-05-06T12:25:18.981160",
     "exception": false,
     "start_time": "2023-05-06T12:25:18.955779",
     "status": "completed"
    },
    "tags": []
   },
   "outputs": [],
   "source": [
    "# Replace \"--\" with NaN\n",
    "df['rating'].replace(\"--\", np.nan, inplace=True)"
   ]
  },
  {
   "cell_type": "code",
   "execution_count": 19,
   "id": "1975fcd4",
   "metadata": {
    "execution": {
     "iopub.execute_input": "2023-05-06T12:25:19.002340Z",
     "iopub.status.busy": "2023-05-06T12:25:19.001960Z",
     "iopub.status.idle": "2023-05-06T12:25:19.035135Z",
     "shell.execute_reply": "2023-05-06T12:25:19.034008Z"
    },
    "papermill": {
     "duration": 0.046628,
     "end_time": "2023-05-06T12:25:19.037598",
     "exception": false,
     "start_time": "2023-05-06T12:25:18.990970",
     "status": "completed"
    },
    "tags": []
   },
   "outputs": [],
   "source": [
    "df['rating'] = df['rating'].astype(float)"
   ]
  },
  {
   "cell_type": "code",
   "execution_count": 20,
   "id": "df37a7df",
   "metadata": {
    "execution": {
     "iopub.execute_input": "2023-05-06T12:25:19.058249Z",
     "iopub.status.busy": "2023-05-06T12:25:19.057866Z",
     "iopub.status.idle": "2023-05-06T12:25:19.070366Z",
     "shell.execute_reply": "2023-05-06T12:25:19.069456Z"
    },
    "papermill": {
     "duration": 0.025511,
     "end_time": "2023-05-06T12:25:19.072762",
     "exception": false,
     "start_time": "2023-05-06T12:25:19.047251",
     "status": "completed"
    },
    "tags": []
   },
   "outputs": [],
   "source": [
    "# Fill missing values with median of column\n",
    "df['rating'].fillna(df['rating'].median(), inplace=True)"
   ]
  },
  {
   "cell_type": "code",
   "execution_count": 21,
   "id": "15b86749",
   "metadata": {
    "execution": {
     "iopub.execute_input": "2023-05-06T12:25:19.094119Z",
     "iopub.status.busy": "2023-05-06T12:25:19.093731Z",
     "iopub.status.idle": "2023-05-06T12:25:19.102157Z",
     "shell.execute_reply": "2023-05-06T12:25:19.101338Z"
    },
    "papermill": {
     "duration": 0.021704,
     "end_time": "2023-05-06T12:25:19.104222",
     "exception": false,
     "start_time": "2023-05-06T12:25:19.082518",
     "status": "completed"
    },
    "tags": []
   },
   "outputs": [
    {
     "data": {
      "text/plain": [
       "0         4.0\n",
       "1         4.4\n",
       "2         3.8\n",
       "3         3.7\n",
       "4         4.0\n",
       "         ... \n",
       "148536    4.0\n",
       "148537    4.0\n",
       "148538    4.0\n",
       "148539    4.0\n",
       "148540    4.0\n",
       "Name: rating, Length: 148255, dtype: float64"
      ]
     },
     "execution_count": 21,
     "metadata": {},
     "output_type": "execute_result"
    }
   ],
   "source": [
    "df['rating']"
   ]
  },
  {
   "cell_type": "code",
   "execution_count": 22,
   "id": "6f460bcb",
   "metadata": {
    "execution": {
     "iopub.execute_input": "2023-05-06T12:25:19.125383Z",
     "iopub.status.busy": "2023-05-06T12:25:19.125007Z",
     "iopub.status.idle": "2023-05-06T12:25:19.142455Z",
     "shell.execute_reply": "2023-05-06T12:25:19.141355Z"
    },
    "papermill": {
     "duration": 0.030529,
     "end_time": "2023-05-06T12:25:19.144703",
     "exception": false,
     "start_time": "2023-05-06T12:25:19.114174",
     "status": "completed"
    },
    "tags": []
   },
   "outputs": [
    {
     "data": {
      "text/plain": [
       "Too Few Ratings    86912\n",
       "20+ ratings        21604\n",
       "100+ ratings       20514\n",
       "50+ ratings        11985\n",
       "500+ ratings        4390\n",
       "1K+ ratings         2737\n",
       "5K+ ratings           98\n",
       "10K+ ratings          15\n",
       "Name: rating_count, dtype: int64"
      ]
     },
     "execution_count": 22,
     "metadata": {},
     "output_type": "execute_result"
    }
   ],
   "source": [
    "df['rating_count'].value_counts()"
   ]
  },
  {
   "cell_type": "code",
   "execution_count": 23,
   "id": "91a43702",
   "metadata": {
    "execution": {
     "iopub.execute_input": "2023-05-06T12:25:19.166243Z",
     "iopub.status.busy": "2023-05-06T12:25:19.165650Z",
     "iopub.status.idle": "2023-05-06T12:25:19.214839Z",
     "shell.execute_reply": "2023-05-06T12:25:19.213916Z"
    },
    "papermill": {
     "duration": 0.06259,
     "end_time": "2023-05-06T12:25:19.217238",
     "exception": false,
     "start_time": "2023-05-06T12:25:19.154648",
     "status": "completed"
    },
    "tags": []
   },
   "outputs": [],
   "source": [
    "#Feature Engineering : Mapping types of rating_counts into numerical values\n",
    "\n",
    "df[\"rating_count\"] = df[\"rating_count\"].map({\"10K+ ratings\": 1, '5K+ ratings': 2, '1K+ ratings': 3 ,'500+ ratings': 4,'50+ ratings': 5, '100+ ratings': 6 ,'20+ ratings': 7, 'Too Few Ratings': 8 })"
   ]
  },
  {
   "cell_type": "code",
   "execution_count": 24,
   "id": "23d34774",
   "metadata": {
    "execution": {
     "iopub.execute_input": "2023-05-06T12:25:19.238336Z",
     "iopub.status.busy": "2023-05-06T12:25:19.237990Z",
     "iopub.status.idle": "2023-05-06T12:25:19.247987Z",
     "shell.execute_reply": "2023-05-06T12:25:19.246859Z"
    },
    "papermill": {
     "duration": 0.023076,
     "end_time": "2023-05-06T12:25:19.250242",
     "exception": false,
     "start_time": "2023-05-06T12:25:19.227166",
     "status": "completed"
    },
    "tags": []
   },
   "outputs": [
    {
     "data": {
      "text/plain": [
       "8    86912\n",
       "7    21604\n",
       "6    20514\n",
       "5    11985\n",
       "4     4390\n",
       "3     2737\n",
       "2       98\n",
       "1       15\n",
       "Name: rating_count, dtype: int64"
      ]
     },
     "execution_count": 24,
     "metadata": {},
     "output_type": "execute_result"
    }
   ],
   "source": [
    "df[\"rating_count\"].value_counts()"
   ]
  },
  {
   "cell_type": "code",
   "execution_count": 25,
   "id": "92af8661",
   "metadata": {
    "execution": {
     "iopub.execute_input": "2023-05-06T12:25:19.272139Z",
     "iopub.status.busy": "2023-05-06T12:25:19.271743Z",
     "iopub.status.idle": "2023-05-06T12:25:19.439909Z",
     "shell.execute_reply": "2023-05-06T12:25:19.438636Z"
    },
    "papermill": {
     "duration": 0.182564,
     "end_time": "2023-05-06T12:25:19.442841",
     "exception": false,
     "start_time": "2023-05-06T12:25:19.260277",
     "status": "completed"
    },
    "tags": []
   },
   "outputs": [
    {
     "name": "stdout",
     "output_type": "stream",
     "text": [
      "<class 'pandas.core.frame.DataFrame'>\n",
      "Int64Index: 148255 entries, 0 to 148540\n",
      "Data columns (total 11 columns):\n",
      " #   Column        Non-Null Count   Dtype  \n",
      "---  ------        --------------   -----  \n",
      " 0   id            148255 non-null  int64  \n",
      " 1   name          148255 non-null  object \n",
      " 2   city          148255 non-null  object \n",
      " 3   rating        148255 non-null  float64\n",
      " 4   rating_count  148255 non-null  int64  \n",
      " 5   cost          148255 non-null  float64\n",
      " 6   cuisine       148255 non-null  object \n",
      " 7   lic_no        148255 non-null  object \n",
      " 8   link          148255 non-null  object \n",
      " 9   address       148255 non-null  object \n",
      " 10  menu          148255 non-null  object \n",
      "dtypes: float64(2), int64(2), object(7)\n",
      "memory usage: 13.6+ MB\n"
     ]
    }
   ],
   "source": [
    "df.info()"
   ]
  },
  {
   "cell_type": "markdown",
   "id": "bacae969",
   "metadata": {
    "papermill": {
     "duration": 0.009619,
     "end_time": "2023-05-06T12:25:19.462608",
     "exception": false,
     "start_time": "2023-05-06T12:25:19.452989",
     "status": "completed"
    },
    "tags": []
   },
   "source": [
    "* Identify the number of restaurants listed on Swiggy in India\n",
    "* Determine the number of cities that have restaurants listed on Swiggy\n",
    "* Identify the city with the maximum number of restaurants listed on Swiggy\n",
    "- Determine the top 10 cities as per the number of restaurants listed on Swiggy\n",
    "* Determine the most popular cuisines served throughout the dataset\n",
    "6) Identify the city with the least expensive restaurant in terms of cost\n",
    "7) Determine the top 5 most popular restaurant chains in India\n",
    "8) Identify the restaurant in Bangalore that has the most number of people visited based on the number of reviews"
   ]
  },
  {
   "cell_type": "code",
   "execution_count": 26,
   "id": "158d2bcc",
   "metadata": {
    "execution": {
     "iopub.execute_input": "2023-05-06T12:25:19.484955Z",
     "iopub.status.busy": "2023-05-06T12:25:19.484039Z",
     "iopub.status.idle": "2023-05-06T12:25:19.503070Z",
     "shell.execute_reply": "2023-05-06T12:25:19.501597Z"
    },
    "papermill": {
     "duration": 0.03235,
     "end_time": "2023-05-06T12:25:19.505310",
     "exception": false,
     "start_time": "2023-05-06T12:25:19.472960",
     "status": "completed"
    },
    "tags": []
   },
   "outputs": [
    {
     "name": "stdout",
     "output_type": "stream",
     "text": [
      "Number of cities with restaurants listed on Swiggy: 821\n"
     ]
    }
   ],
   "source": [
    "# Count the number of unique cities with restaurants listed on Swiggy\n",
    "num_cities = df['city'].nunique()\n",
    "\n",
    "# Print the result\n",
    "print('Number of cities with restaurants listed on Swiggy:', num_cities)"
   ]
  },
  {
   "cell_type": "code",
   "execution_count": 27,
   "id": "ec4e3c13",
   "metadata": {
    "execution": {
     "iopub.execute_input": "2023-05-06T12:25:19.527560Z",
     "iopub.status.busy": "2023-05-06T12:25:19.526900Z",
     "iopub.status.idle": "2023-05-06T12:25:19.560572Z",
     "shell.execute_reply": "2023-05-06T12:25:19.559296Z"
    },
    "papermill": {
     "duration": 0.047539,
     "end_time": "2023-05-06T12:25:19.563022",
     "exception": false,
     "start_time": "2023-05-06T12:25:19.515483",
     "status": "completed"
    },
    "tags": []
   },
   "outputs": [],
   "source": [
    "# Group the dataset by city and count the number of unique restaurant IDs in each city\n",
    "city_counts = df.groupby('city')['id'].nunique()"
   ]
  },
  {
   "cell_type": "code",
   "execution_count": 28,
   "id": "e601bc8f",
   "metadata": {
    "execution": {
     "iopub.execute_input": "2023-05-06T12:25:19.585259Z",
     "iopub.status.busy": "2023-05-06T12:25:19.584614Z",
     "iopub.status.idle": "2023-05-06T12:25:19.590832Z",
     "shell.execute_reply": "2023-05-06T12:25:19.589785Z"
    },
    "papermill": {
     "duration": 0.019633,
     "end_time": "2023-05-06T12:25:19.593034",
     "exception": false,
     "start_time": "2023-05-06T12:25:19.573401",
     "status": "completed"
    },
    "tags": []
   },
   "outputs": [
    {
     "name": "stdout",
     "output_type": "stream",
     "text": [
      "City with the maximum number of restaurants listed on Swiggy: Bikaner\n"
     ]
    }
   ],
   "source": [
    "# Get the city with the maximum count\n",
    "max_city = city_counts.idxmax()\n",
    "\n",
    "# Print the result\n",
    "print('City with the maximum number of restaurants listed on Swiggy:', max_city)"
   ]
  },
  {
   "cell_type": "code",
   "execution_count": 29,
   "id": "1fc19bd7",
   "metadata": {
    "execution": {
     "iopub.execute_input": "2023-05-06T12:25:19.615114Z",
     "iopub.status.busy": "2023-05-06T12:25:19.614074Z",
     "iopub.status.idle": "2023-05-06T12:25:19.621638Z",
     "shell.execute_reply": "2023-05-06T12:25:19.620699Z"
    },
    "papermill": {
     "duration": 0.020491,
     "end_time": "2023-05-06T12:25:19.623532",
     "exception": false,
     "start_time": "2023-05-06T12:25:19.603041",
     "status": "completed"
    },
    "tags": []
   },
   "outputs": [],
   "source": [
    "# Get the top 10 cities by count\n",
    "top_cities = city_counts.nlargest(10)\n"
   ]
  },
  {
   "cell_type": "code",
   "execution_count": 30,
   "id": "5b0e526c",
   "metadata": {
    "execution": {
     "iopub.execute_input": "2023-05-06T12:25:19.645330Z",
     "iopub.status.busy": "2023-05-06T12:25:19.644724Z",
     "iopub.status.idle": "2023-05-06T12:25:19.650109Z",
     "shell.execute_reply": "2023-05-06T12:25:19.648982Z"
    },
    "papermill": {
     "duration": 0.0187,
     "end_time": "2023-05-06T12:25:19.652277",
     "exception": false,
     "start_time": "2023-05-06T12:25:19.633577",
     "status": "completed"
    },
    "tags": []
   },
   "outputs": [
    {
     "name": "stdout",
     "output_type": "stream",
     "text": [
      "Top 10 cities as per the number of restaurants listed on Swiggy:\n",
      "city\n",
      "Bikaner                      1665\n",
      "Noida-1                      1424\n",
      "Indirapuram,Delhi            1279\n",
      "BTM,Bangalore                1159\n",
      "Rohini,Delhi                 1135\n",
      "Kothrud,Pune                 1086\n",
      "Indiranagar,Bangalore        1079\n",
      "Electronic City,Bangalore    1039\n",
      "Greater Kailash 2,Delhi      1037\n",
      "Vashi,Mumbai                 1021\n",
      "Name: id, dtype: int64\n"
     ]
    }
   ],
   "source": [
    "# Print the result\n",
    "print('Top 10 cities as per the number of restaurants listed on Swiggy:')\n",
    "print(top_cities)"
   ]
  },
  {
   "cell_type": "code",
   "execution_count": 31,
   "id": "d3face37",
   "metadata": {
    "execution": {
     "iopub.execute_input": "2023-05-06T12:25:19.675016Z",
     "iopub.status.busy": "2023-05-06T12:25:19.674311Z",
     "iopub.status.idle": "2023-05-06T12:25:19.691929Z",
     "shell.execute_reply": "2023-05-06T12:25:19.690866Z"
    },
    "papermill": {
     "duration": 0.031628,
     "end_time": "2023-05-06T12:25:19.694179",
     "exception": false,
     "start_time": "2023-05-06T12:25:19.662551",
     "status": "completed"
    },
    "tags": []
   },
   "outputs": [
    {
     "name": "stdout",
     "output_type": "stream",
     "text": [
      "Most popular cuisines served on Swiggy:\n",
      "North Indian,Chinese    6463\n",
      "Indian                  6399\n",
      "Chinese                 5045\n",
      "North Indian            4764\n",
      "Indian,Chinese          4368\n",
      "South Indian            3299\n",
      "Bakery                  3122\n",
      "Chinese,Indian          2308\n",
      "Chinese,North Indian    2283\n",
      "Bakery,Desserts         2233\n",
      "Name: cuisine, dtype: int64\n"
     ]
    }
   ],
   "source": [
    "# Count the number of restaurants serving each cuisine\n",
    "cuisine_counts = df['cuisine'].value_counts()\n",
    "\n",
    "# Print the result\n",
    "print('Most popular cuisines served on Swiggy:')\n",
    "print(cuisine_counts.head(10))"
   ]
  },
  {
   "cell_type": "code",
   "execution_count": 32,
   "id": "cc8c0967",
   "metadata": {
    "execution": {
     "iopub.execute_input": "2023-05-06T12:25:19.715842Z",
     "iopub.status.busy": "2023-05-06T12:25:19.715472Z",
     "iopub.status.idle": "2023-05-06T12:25:19.737194Z",
     "shell.execute_reply": "2023-05-06T12:25:19.735757Z"
    },
    "papermill": {
     "duration": 0.034998,
     "end_time": "2023-05-06T12:25:19.739293",
     "exception": false,
     "start_time": "2023-05-06T12:25:19.704295",
     "status": "completed"
    },
    "tags": []
   },
   "outputs": [
    {
     "name": "stdout",
     "output_type": "stream",
     "text": [
      "The city with the least expensive restaurants is Hampi.\n"
     ]
    }
   ],
   "source": [
    "city_cost = df.groupby('city')['cost'].mean().sort_values()\n",
    "least_expensive_city = city_cost.index[0]\n",
    "print(f\"The city with the least expensive restaurants is {least_expensive_city}.\")"
   ]
  },
  {
   "cell_type": "code",
   "execution_count": 33,
   "id": "54360fd4",
   "metadata": {
    "execution": {
     "iopub.execute_input": "2023-05-06T12:25:19.761721Z",
     "iopub.status.busy": "2023-05-06T12:25:19.761111Z",
     "iopub.status.idle": "2023-05-06T12:25:19.945906Z",
     "shell.execute_reply": "2023-05-06T12:25:19.944887Z"
    },
    "papermill": {
     "duration": 0.198561,
     "end_time": "2023-05-06T12:25:19.948253",
     "exception": false,
     "start_time": "2023-05-06T12:25:19.749692",
     "status": "completed"
    },
    "tags": []
   },
   "outputs": [
    {
     "name": "stdout",
     "output_type": "stream",
     "text": [
      "The top 5 most popular restaurant chains in India are:\n",
      "Domino's Pizza\n",
      "Pizza Hut\n",
      "KFC\n",
      "Kwality Walls Frozen Dessert and Ice Cream Shop\n",
      "Baskin Robbins\n"
     ]
    }
   ],
   "source": [
    "# Top 5 most popular restaurant\n",
    "top_chains = df.groupby('name')['id'].count().sort_values(ascending=False).head(5).index.tolist()\n",
    "print(\"The top 5 most popular restaurant chains in India are:\")\n",
    "for chain in top_chains:\n",
    "    print(chain)"
   ]
  },
  {
   "cell_type": "code",
   "execution_count": null,
   "id": "ff34c11b",
   "metadata": {
    "papermill": {
     "duration": 0.010035,
     "end_time": "2023-05-06T12:25:19.968748",
     "exception": false,
     "start_time": "2023-05-06T12:25:19.958713",
     "status": "completed"
    },
    "tags": []
   },
   "outputs": [],
   "source": []
  }
 ],
 "metadata": {
  "kernelspec": {
   "display_name": "Python 3",
   "language": "python",
   "name": "python3"
  },
  "language_info": {
   "codemirror_mode": {
    "name": "ipython",
    "version": 3
   },
   "file_extension": ".py",
   "mimetype": "text/x-python",
   "name": "python",
   "nbconvert_exporter": "python",
   "pygments_lexer": "ipython3",
   "version": "3.10.10"
  },
  "papermill": {
   "default_parameters": {},
   "duration": 17.574924,
   "end_time": "2023-05-06T12:25:20.902216",
   "environment_variables": {},
   "exception": null,
   "input_path": "__notebook__.ipynb",
   "output_path": "__notebook__.ipynb",
   "parameters": {},
   "start_time": "2023-05-06T12:25:03.327292",
   "version": "2.4.0"
  }
 },
 "nbformat": 4,
 "nbformat_minor": 5
}
