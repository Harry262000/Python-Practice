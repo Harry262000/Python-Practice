{
 "cells": [
  {
   "cell_type": "code",
   "execution_count": 1,
   "id": "d304fb41",
   "metadata": {
    "_cell_guid": "b1076dfc-b9ad-4769-8c92-a6c4dae69d19",
    "_uuid": "8f2839f25d086af736a60e9eeb907d3b93b6e0e5",
    "execution": {
     "iopub.execute_input": "2023-03-03T17:58:54.031295Z",
     "iopub.status.busy": "2023-03-03T17:58:54.030872Z",
     "iopub.status.idle": "2023-03-03T17:58:54.048895Z",
     "shell.execute_reply": "2023-03-03T17:58:54.047922Z"
    },
    "papermill": {
     "duration": 0.0271,
     "end_time": "2023-03-03T17:58:54.050847",
     "exception": false,
     "start_time": "2023-03-03T17:58:54.023747",
     "status": "completed"
    },
    "tags": []
   },
   "outputs": [
    {
     "name": "stdout",
     "output_type": "stream",
     "text": [
      "/kaggle/input/salary-dataset-simple-linear-regression/Salary_dataset.csv\n"
     ]
    }
   ],
   "source": [
    "# This Python 3 environment comes with many helpful analytics libraries installed\n",
    "# It is defined by the kaggle/python Docker image: https://github.com/kaggle/docker-python\n",
    "# For example, here's several helpful packages to load\n",
    "\n",
    "import numpy as np # linear algebra\n",
    "import pandas as pd # data processing, CSV file I/O (e.g. pd.read_csv)\n",
    "import matplotlib.pyplot as plt\n",
    "# Input data files are available in the read-only \"../input/\" directory\n",
    "# For example, running this (by clicking run or pressing Shift+Enter) will list all files under the input directory\n",
    "\n",
    "import os\n",
    "for dirname, _, filenames in os.walk('/kaggle/input'):\n",
    "    for filename in filenames:\n",
    "        print(os.path.join(dirname, filename))\n",
    "\n",
    "# You can write up to 20GB to the current directory (/kaggle/working/) that gets preserved as output when you create a version using \"Save & Run All\" \n",
    "# You can also write temporary files to /kaggle/temp/, but they won't be saved outside of the current session"
   ]
  },
  {
   "cell_type": "code",
   "execution_count": 2,
   "id": "ff943e0a",
   "metadata": {
    "execution": {
     "iopub.execute_input": "2023-03-03T17:58:54.060744Z",
     "iopub.status.busy": "2023-03-03T17:58:54.060112Z",
     "iopub.status.idle": "2023-03-03T17:58:54.094955Z",
     "shell.execute_reply": "2023-03-03T17:58:54.094134Z"
    },
    "papermill": {
     "duration": 0.041962,
     "end_time": "2023-03-03T17:58:54.096758",
     "exception": false,
     "start_time": "2023-03-03T17:58:54.054796",
     "status": "completed"
    },
    "tags": []
   },
   "outputs": [
    {
     "data": {
      "text/html": [
       "<div>\n",
       "<style scoped>\n",
       "    .dataframe tbody tr th:only-of-type {\n",
       "        vertical-align: middle;\n",
       "    }\n",
       "\n",
       "    .dataframe tbody tr th {\n",
       "        vertical-align: top;\n",
       "    }\n",
       "\n",
       "    .dataframe thead th {\n",
       "        text-align: right;\n",
       "    }\n",
       "</style>\n",
       "<table border=\"1\" class=\"dataframe\">\n",
       "  <thead>\n",
       "    <tr style=\"text-align: right;\">\n",
       "      <th></th>\n",
       "      <th>Unnamed: 0</th>\n",
       "      <th>YearsExperience</th>\n",
       "      <th>Salary</th>\n",
       "    </tr>\n",
       "  </thead>\n",
       "  <tbody>\n",
       "    <tr>\n",
       "      <th>0</th>\n",
       "      <td>0</td>\n",
       "      <td>1.2</td>\n",
       "      <td>39344.0</td>\n",
       "    </tr>\n",
       "    <tr>\n",
       "      <th>1</th>\n",
       "      <td>1</td>\n",
       "      <td>1.4</td>\n",
       "      <td>46206.0</td>\n",
       "    </tr>\n",
       "    <tr>\n",
       "      <th>2</th>\n",
       "      <td>2</td>\n",
       "      <td>1.6</td>\n",
       "      <td>37732.0</td>\n",
       "    </tr>\n",
       "    <tr>\n",
       "      <th>3</th>\n",
       "      <td>3</td>\n",
       "      <td>2.1</td>\n",
       "      <td>43526.0</td>\n",
       "    </tr>\n",
       "    <tr>\n",
       "      <th>4</th>\n",
       "      <td>4</td>\n",
       "      <td>2.3</td>\n",
       "      <td>39892.0</td>\n",
       "    </tr>\n",
       "  </tbody>\n",
       "</table>\n",
       "</div>"
      ],
      "text/plain": [
       "   Unnamed: 0  YearsExperience   Salary\n",
       "0           0              1.2  39344.0\n",
       "1           1              1.4  46206.0\n",
       "2           2              1.6  37732.0\n",
       "3           3              2.1  43526.0\n",
       "4           4              2.3  39892.0"
      ]
     },
     "execution_count": 2,
     "metadata": {},
     "output_type": "execute_result"
    }
   ],
   "source": [
    "df = pd.read_csv('/kaggle/input/salary-dataset-simple-linear-regression/Salary_dataset.csv')\n",
    "df.head()"
   ]
  },
  {
   "cell_type": "code",
   "execution_count": 3,
   "id": "6868d2f1",
   "metadata": {
    "execution": {
     "iopub.execute_input": "2023-03-03T17:58:54.105986Z",
     "iopub.status.busy": "2023-03-03T17:58:54.105641Z",
     "iopub.status.idle": "2023-03-03T17:58:54.112787Z",
     "shell.execute_reply": "2023-03-03T17:58:54.111775Z"
    },
    "papermill": {
     "duration": 0.014049,
     "end_time": "2023-03-03T17:58:54.114853",
     "exception": false,
     "start_time": "2023-03-03T17:58:54.100804",
     "status": "completed"
    },
    "tags": []
   },
   "outputs": [
    {
     "data": {
      "text/plain": [
       "(30, 3)"
      ]
     },
     "execution_count": 3,
     "metadata": {},
     "output_type": "execute_result"
    }
   ],
   "source": [
    "df.shape"
   ]
  },
  {
   "cell_type": "code",
   "execution_count": 4,
   "id": "3704ad96",
   "metadata": {
    "execution": {
     "iopub.execute_input": "2023-03-03T17:58:54.125588Z",
     "iopub.status.busy": "2023-03-03T17:58:54.124837Z",
     "iopub.status.idle": "2023-03-03T17:58:54.150232Z",
     "shell.execute_reply": "2023-03-03T17:58:54.148938Z"
    },
    "papermill": {
     "duration": 0.033213,
     "end_time": "2023-03-03T17:58:54.152392",
     "exception": false,
     "start_time": "2023-03-03T17:58:54.119179",
     "status": "completed"
    },
    "tags": []
   },
   "outputs": [
    {
     "name": "stdout",
     "output_type": "stream",
     "text": [
      "<class 'pandas.core.frame.DataFrame'>\n",
      "RangeIndex: 30 entries, 0 to 29\n",
      "Data columns (total 3 columns):\n",
      " #   Column           Non-Null Count  Dtype  \n",
      "---  ------           --------------  -----  \n",
      " 0   Unnamed: 0       30 non-null     int64  \n",
      " 1   YearsExperience  30 non-null     float64\n",
      " 2   Salary           30 non-null     float64\n",
      "dtypes: float64(2), int64(1)\n",
      "memory usage: 848.0 bytes\n"
     ]
    }
   ],
   "source": [
    "df.info()"
   ]
  },
  {
   "cell_type": "code",
   "execution_count": 5,
   "id": "5b16724e",
   "metadata": {
    "execution": {
     "iopub.execute_input": "2023-03-03T17:58:54.162629Z",
     "iopub.status.busy": "2023-03-03T17:58:54.162010Z",
     "iopub.status.idle": "2023-03-03T17:58:54.182103Z",
     "shell.execute_reply": "2023-03-03T17:58:54.180963Z"
    },
    "papermill": {
     "duration": 0.028158,
     "end_time": "2023-03-03T17:58:54.184823",
     "exception": false,
     "start_time": "2023-03-03T17:58:54.156665",
     "status": "completed"
    },
    "tags": []
   },
   "outputs": [
    {
     "data": {
      "text/html": [
       "<div>\n",
       "<style scoped>\n",
       "    .dataframe tbody tr th:only-of-type {\n",
       "        vertical-align: middle;\n",
       "    }\n",
       "\n",
       "    .dataframe tbody tr th {\n",
       "        vertical-align: top;\n",
       "    }\n",
       "\n",
       "    .dataframe thead th {\n",
       "        text-align: right;\n",
       "    }\n",
       "</style>\n",
       "<table border=\"1\" class=\"dataframe\">\n",
       "  <thead>\n",
       "    <tr style=\"text-align: right;\">\n",
       "      <th></th>\n",
       "      <th>Unnamed: 0</th>\n",
       "      <th>YearsExperience</th>\n",
       "      <th>Salary</th>\n",
       "    </tr>\n",
       "  </thead>\n",
       "  <tbody>\n",
       "    <tr>\n",
       "      <th>count</th>\n",
       "      <td>30.000000</td>\n",
       "      <td>30.000000</td>\n",
       "      <td>30.000000</td>\n",
       "    </tr>\n",
       "    <tr>\n",
       "      <th>mean</th>\n",
       "      <td>14.500000</td>\n",
       "      <td>5.413333</td>\n",
       "      <td>76004.000000</td>\n",
       "    </tr>\n",
       "    <tr>\n",
       "      <th>std</th>\n",
       "      <td>8.803408</td>\n",
       "      <td>2.837888</td>\n",
       "      <td>27414.429785</td>\n",
       "    </tr>\n",
       "    <tr>\n",
       "      <th>min</th>\n",
       "      <td>0.000000</td>\n",
       "      <td>1.200000</td>\n",
       "      <td>37732.000000</td>\n",
       "    </tr>\n",
       "    <tr>\n",
       "      <th>25%</th>\n",
       "      <td>7.250000</td>\n",
       "      <td>3.300000</td>\n",
       "      <td>56721.750000</td>\n",
       "    </tr>\n",
       "    <tr>\n",
       "      <th>50%</th>\n",
       "      <td>14.500000</td>\n",
       "      <td>4.800000</td>\n",
       "      <td>65238.000000</td>\n",
       "    </tr>\n",
       "    <tr>\n",
       "      <th>75%</th>\n",
       "      <td>21.750000</td>\n",
       "      <td>7.800000</td>\n",
       "      <td>100545.750000</td>\n",
       "    </tr>\n",
       "    <tr>\n",
       "      <th>max</th>\n",
       "      <td>29.000000</td>\n",
       "      <td>10.600000</td>\n",
       "      <td>122392.000000</td>\n",
       "    </tr>\n",
       "  </tbody>\n",
       "</table>\n",
       "</div>"
      ],
      "text/plain": [
       "       Unnamed: 0  YearsExperience         Salary\n",
       "count   30.000000        30.000000      30.000000\n",
       "mean    14.500000         5.413333   76004.000000\n",
       "std      8.803408         2.837888   27414.429785\n",
       "min      0.000000         1.200000   37732.000000\n",
       "25%      7.250000         3.300000   56721.750000\n",
       "50%     14.500000         4.800000   65238.000000\n",
       "75%     21.750000         7.800000  100545.750000\n",
       "max     29.000000        10.600000  122392.000000"
      ]
     },
     "execution_count": 5,
     "metadata": {},
     "output_type": "execute_result"
    }
   ],
   "source": [
    "df.describe()"
   ]
  },
  {
   "cell_type": "code",
   "execution_count": 6,
   "id": "f9976516",
   "metadata": {
    "execution": {
     "iopub.execute_input": "2023-03-03T17:58:54.195529Z",
     "iopub.status.busy": "2023-03-03T17:58:54.194858Z",
     "iopub.status.idle": "2023-03-03T17:58:54.202539Z",
     "shell.execute_reply": "2023-03-03T17:58:54.201602Z"
    },
    "papermill": {
     "duration": 0.015098,
     "end_time": "2023-03-03T17:58:54.204572",
     "exception": false,
     "start_time": "2023-03-03T17:58:54.189474",
     "status": "completed"
    },
    "tags": []
   },
   "outputs": [
    {
     "data": {
      "text/plain": [
       "Unnamed: 0         0\n",
       "YearsExperience    0\n",
       "Salary             0\n",
       "dtype: int64"
      ]
     },
     "execution_count": 6,
     "metadata": {},
     "output_type": "execute_result"
    }
   ],
   "source": [
    "df.isnull().sum()"
   ]
  },
  {
   "cell_type": "code",
   "execution_count": 7,
   "id": "9ec0614f",
   "metadata": {
    "execution": {
     "iopub.execute_input": "2023-03-03T17:58:54.215711Z",
     "iopub.status.busy": "2023-03-03T17:58:54.215073Z",
     "iopub.status.idle": "2023-03-03T17:58:54.219555Z",
     "shell.execute_reply": "2023-03-03T17:58:54.218635Z"
    },
    "papermill": {
     "duration": 0.012371,
     "end_time": "2023-03-03T17:58:54.221581",
     "exception": false,
     "start_time": "2023-03-03T17:58:54.209210",
     "status": "completed"
    },
    "tags": []
   },
   "outputs": [],
   "source": [
    "x = df['YearsExperience']\n",
    "y = df['Salary']"
   ]
  },
  {
   "cell_type": "code",
   "execution_count": 8,
   "id": "97447685",
   "metadata": {
    "execution": {
     "iopub.execute_input": "2023-03-03T17:58:54.232014Z",
     "iopub.status.busy": "2023-03-03T17:58:54.231695Z",
     "iopub.status.idle": "2023-03-03T17:58:54.399828Z",
     "shell.execute_reply": "2023-03-03T17:58:54.399080Z"
    },
    "papermill": {
     "duration": 0.175559,
     "end_time": "2023-03-03T17:58:54.401723",
     "exception": false,
     "start_time": "2023-03-03T17:58:54.226164",
     "status": "completed"
    },
    "tags": []
   },
   "outputs": [
    {
     "data": {
      "image/png": "[encoded data removed]",
      "text/plain": [
       "<Figure size 640x480 with 1 Axes>"
      ]
     },
     "metadata": {},
     "output_type": "display_data"
    }
   ],
   "source": [
    "#plt.plot(predict_space, predicted, color='black', linewidth=3)\n",
    "plt.scatter(x=x,y=y)\n",
    "plt.xlabel('Years Experience')\n",
    "plt.ylabel('Salary')\n",
    "plt.show()"
   ]
  },
  {
   "cell_type": "code",
   "execution_count": 9,
   "id": "0d3f8bd7",
   "metadata": {
    "execution": {
     "iopub.execute_input": "2023-03-03T17:58:54.413853Z",
     "iopub.status.busy": "2023-03-03T17:58:54.412916Z",
     "iopub.status.idle": "2023-03-03T17:58:54.419301Z",
     "shell.execute_reply": "2023-03-03T17:58:54.418271Z"
    },
    "papermill": {
     "duration": 0.014351,
     "end_time": "2023-03-03T17:58:54.421095",
     "exception": false,
     "start_time": "2023-03-03T17:58:54.406744",
     "status": "completed"
    },
    "tags": []
   },
   "outputs": [],
   "source": [
    "def linear_regression(x, y):\n",
    "    N = len(x)\n",
    "    x_mean = x.mean()\n",
    "    y_mean = y.mean()\n",
    "    \n",
    "    \n",
    "    B1_num = ((x - x_mean) * (y - y_mean)).sum()\n",
    "    B1_den = ((x - x_mean)**2).sum()\n",
    "    B1 = B1_num / B1_den\n",
    "    \n",
    "    B0 = y_mean - (B1*x_mean)\n",
    "    \n",
    "    reg_line = 'y = {} + {}β'.format(B0, round(B1, 3))\n",
    "    \n",
    "    return (B0, B1, reg_line)"
   ]
  },
  {
   "cell_type": "code",
   "execution_count": 10,
   "id": "0a6119ed",
   "metadata": {
    "execution": {
     "iopub.execute_input": "2023-03-03T17:58:54.432493Z",
     "iopub.status.busy": "2023-03-03T17:58:54.431836Z",
     "iopub.status.idle": "2023-03-03T17:58:54.436101Z",
     "shell.execute_reply": "2023-03-03T17:58:54.435439Z"
    },
    "papermill": {
     "duration": 0.011908,
     "end_time": "2023-03-03T17:58:54.437758",
     "exception": false,
     "start_time": "2023-03-03T17:58:54.425850",
     "status": "completed"
    },
    "tags": []
   },
   "outputs": [],
   "source": [
    "N = len(x)\n",
    "x_mean = x.mean()\n",
    "y_mean = y.mean()"
   ]
  },
  {
   "cell_type": "code",
   "execution_count": 11,
   "id": "beb2e71e",
   "metadata": {
    "execution": {
     "iopub.execute_input": "2023-03-03T17:58:54.448638Z",
     "iopub.status.busy": "2023-03-03T17:58:54.448115Z",
     "iopub.status.idle": "2023-03-03T17:58:54.453545Z",
     "shell.execute_reply": "2023-03-03T17:58:54.452877Z"
    },
    "papermill": {
     "duration": 0.013401,
     "end_time": "2023-03-03T17:58:54.455947",
     "exception": false,
     "start_time": "2023-03-03T17:58:54.442546",
     "status": "completed"
    },
    "tags": []
   },
   "outputs": [],
   "source": [
    "B1_num = ((x - x_mean) * (y - y_mean)).sum()\n",
    "B1_den = ((x - x_mean)**2).sum()\n",
    "B1 = B1_num / B1_den"
   ]
  },
  {
   "cell_type": "code",
   "execution_count": 12,
   "id": "6b9f68ce",
   "metadata": {
    "execution": {
     "iopub.execute_input": "2023-03-03T17:58:54.467164Z",
     "iopub.status.busy": "2023-03-03T17:58:54.466672Z",
     "iopub.status.idle": "2023-03-03T17:58:54.470047Z",
     "shell.execute_reply": "2023-03-03T17:58:54.469419Z"
    },
    "papermill": {
     "duration": 0.010743,
     "end_time": "2023-03-03T17:58:54.471772",
     "exception": false,
     "start_time": "2023-03-03T17:58:54.461029",
     "status": "completed"
    },
    "tags": []
   },
   "outputs": [],
   "source": [
    "B0 = y_mean - (B1 * x_mean)"
   ]
  },
  {
   "cell_type": "code",
   "execution_count": 13,
   "id": "83df65cc",
   "metadata": {
    "execution": {
     "iopub.execute_input": "2023-03-03T17:58:54.482761Z",
     "iopub.status.busy": "2023-03-03T17:58:54.482282Z",
     "iopub.status.idle": "2023-03-03T17:58:54.487403Z",
     "shell.execute_reply": "2023-03-03T17:58:54.486489Z"
    },
    "papermill": {
     "duration": 0.012259,
     "end_time": "2023-03-03T17:58:54.489103",
     "exception": false,
     "start_time": "2023-03-03T17:58:54.476844",
     "status": "completed"
    },
    "tags": []
   },
   "outputs": [],
   "source": [
    "def corr_coef(x,y):\n",
    "    N = len(x)\n",
    "    \n",
    "    num = (N * (x*y) - (x.sum() * y.sum()))\n",
    "    den = np.sqrt((N * (x**2).sum() - x.sum()**2) * (N * (y**2).sum() - y.sum()**2))\n",
    "    R = num / den\n",
    "    return R"
   ]
  },
  {
   "cell_type": "code",
   "execution_count": 14,
   "id": "cd734a62",
   "metadata": {
    "execution": {
     "iopub.execute_input": "2023-03-03T17:58:54.500020Z",
     "iopub.status.busy": "2023-03-03T17:58:54.499595Z",
     "iopub.status.idle": "2023-03-03T17:58:54.510292Z",
     "shell.execute_reply": "2023-03-03T17:58:54.508418Z"
    },
    "papermill": {
     "duration": 0.018568,
     "end_time": "2023-03-03T17:58:54.512272",
     "exception": false,
     "start_time": "2023-03-03T17:58:54.493704",
     "status": "completed"
    },
    "tags": []
   },
   "outputs": [
    {
     "name": "stdout",
     "output_type": "stream",
     "text": [
      "Regression Line:  y = 24848.2039665232 + 9449.962β\n",
      "Correlation Coef.:  0    -5.449863\n",
      "1    -5.442118\n",
      "2    -5.444031\n",
      "3    -5.430276\n",
      "4    -5.430122\n",
      "5    -5.395472\n",
      "6    -5.388141\n",
      "7    -5.391154\n",
      "8    -5.376527\n",
      "9    -5.374466\n",
      "10   -5.358707\n",
      "11   -5.369397\n",
      "12   -5.367283\n",
      "13   -5.364528\n",
      "14   -5.346191\n",
      "15   -5.320227\n",
      "16   -5.318604\n",
      "17   -5.271921\n",
      "18   -5.254412\n",
      "19   -5.216802\n",
      "20   -5.190226\n",
      "21   -5.157173\n",
      "22   -5.111586\n",
      "23   -5.052095\n",
      "24   -5.043960\n",
      "25   -5.044933\n",
      "26   -4.973083\n",
      "27   -4.986532\n",
      "28   -4.906614\n",
      "29   -4.898203\n",
      "dtype: float64\n",
      "\"Goodness of Fit\":  0     29.701009\n",
      "1     29.616643\n",
      "2     29.637474\n",
      "3     29.487899\n",
      "4     29.486228\n",
      "5     29.111117\n",
      "6     29.032067\n",
      "7     29.064537\n",
      "8     28.907043\n",
      "9     28.884884\n",
      "10    28.715745\n",
      "11    28.830419\n",
      "12    28.807728\n",
      "13    28.778158\n",
      "14    28.581758\n",
      "15    28.304813\n",
      "16    28.287550\n",
      "17    27.793154\n",
      "18    27.608848\n",
      "19    27.215019\n",
      "20    26.938447\n",
      "21    26.596433\n",
      "22    26.128315\n",
      "23    25.523659\n",
      "24    25.441529\n",
      "25    25.451350\n",
      "26    24.731553\n",
      "27    24.865498\n",
      "28    24.074863\n",
      "29    23.992393\n",
      "dtype: float64\n"
     ]
    }
   ],
   "source": [
    "B0, B1, reg_line = linear_regression(x, y)\n",
    "print('Regression Line: ', reg_line)\n",
    "R = corr_coef(x, y)\n",
    "print('Correlation Coef.: ', R)\n",
    "print('\"Goodness of Fit\": ', R**2)"
   ]
  },
  {
   "cell_type": "code",
   "execution_count": null,
   "id": "5c847ee3",
   "metadata": {
    "papermill": {
     "duration": 0.004408,
     "end_time": "2023-03-03T17:58:54.521412",
     "exception": false,
     "start_time": "2023-03-03T17:58:54.517004",
     "status": "completed"
    },
    "tags": []
   },
   "outputs": [],
   "source": [
    "\n"
   ]
  }
 ],
 "metadata": {
  "kernelspec": {
   "display_name": "Python 3",
   "language": "python",
   "name": "python3"
  },
  "language_info": {
   "codemirror_mode": {
    "name": "ipython",
    "version": 3
   },
   "file_extension": ".py",
   "mimetype": "text/x-python",
   "name": "python",
   "nbconvert_exporter": "python",
   "pygments_lexer": "ipython3",
   "version": "3.7.12"
  },
  "papermill": {
   "default_parameters": {},
   "duration": 9.541227,
   "end_time": "2023-03-03T17:58:55.147425",
   "environment_variables": {},
   "exception": null,
   "input_path": "__notebook__.ipynb",
   "output_path": "__notebook__.ipynb",
   "parameters": {},
   "start_time": "2023-03-03T17:58:45.606198",
   "version": "2.4.0"
  }
 },
 "nbformat": 4,
 "nbformat_minor": 5
}
