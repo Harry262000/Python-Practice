{
 "cells": [
  {
   "cell_type": "code",
   "execution_count": 1,
   "id": "0bca50db",
   "metadata": {
    "_cell_guid": "b1076dfc-b9ad-4769-8c92-a6c4dae69d19",
    "_uuid": "8f2839f25d086af736a60e9eeb907d3b93b6e0e5",
    "execution": {
     "iopub.execute_input": "2023-03-03T16:00:54.413619Z",
     "iopub.status.busy": "2023-03-03T16:00:54.413246Z",
     "iopub.status.idle": "2023-03-03T16:00:54.424016Z",
     "shell.execute_reply": "2023-03-03T16:00:54.422943Z"
    },
    "papermill": {
     "duration": 0.017973,
     "end_time": "2023-03-03T16:00:54.426124",
     "exception": false,
     "start_time": "2023-03-03T16:00:54.408151",
     "status": "completed"
    },
    "tags": []
   },
   "outputs": [],
   "source": [
    "# This Python 3 environment comes with many helpful analytics libraries installed\n",
    "# It is defined by the kaggle/python Docker image: https://github.com/kaggle/docker-python\n",
    "# For example, here's several helpful packages to load\n",
    "\n",
    "import numpy as np # linear algebra\n",
    "import pandas as pd # data processing, CSV file I/O (e.g. pd.read_csv)\n",
    "\n",
    "# Input data files are available in the read-only \"../input/\" directory\n",
    "# For example, running this (by clicking run or pressing Shift+Enter) will list all files under the input directory\n",
    "\n",
    "import os\n",
    "for dirname, _, filenames in os.walk('/kaggle/input'):\n",
    "    for filename in filenames:\n",
    "        print(os.path.join(dirname, filename))\n",
    "\n",
    "# You can write up to 20GB to the current directory (/kaggle/working/) that gets preserved as output when you create a version using \"Save & Run All\" \n",
    "# You can also write temporary files to /kaggle/temp/, but they won't be saved outside of the current session"
   ]
  },
  {
   "cell_type": "markdown",
   "id": "1321ae0f",
   "metadata": {
    "papermill": {
     "duration": 0.001907,
     "end_time": "2023-03-03T16:00:54.430397",
     "exception": false,
     "start_time": "2023-03-03T16:00:54.428490",
     "status": "completed"
    },
    "tags": []
   },
   "source": [
    "* KNN is a type of classification algorithm used in machine learning. It is a simple, non-parametric algorithm that does not make any assumptions about the underlying distribution of the data.\n",
    " \n",
    "* KNN works by finding the K nearest neighbors to a given data point and using their labels to predict the label of the new data point. The value of K is chosen by the user, and larger values of K result in smoother decision boundaries, while smaller values of K may be more susceptible to noise.\n",
    " \n",
    "* One of the main advantages of KNN is that it can be used for both binary and multiclass classification problems. It can also be used for regression problems by predicting the average of the K nearest neighbors.\n",
    " \n",
    "* KNN has some limitations, including the fact that it can be slow and memory-intensive for large datasets. It also does not work well with high-dimensional data, as the distance metric used may not be meaningful in high dimensions.\n",
    " \n",
    "* KNN is a popular algorithm due to its simplicity and ease of implementation. It can be a good starting point for classification problems, but it may be outperformed by more advanced algorithms for more complex datasets."
   ]
  },
  {
   "cell_type": "code",
   "execution_count": 2,
   "id": "c4af7ae6",
   "metadata": {
    "execution": {
     "iopub.execute_input": "2023-03-03T16:00:54.435939Z",
     "iopub.status.busy": "2023-03-03T16:00:54.435610Z",
     "iopub.status.idle": "2023-03-03T16:00:54.439157Z",
     "shell.execute_reply": "2023-03-03T16:00:54.438388Z"
    },
    "papermill": {
     "duration": 0.008292,
     "end_time": "2023-03-03T16:00:54.440732",
     "exception": false,
     "start_time": "2023-03-03T16:00:54.432440",
     "status": "completed"
    },
    "tags": []
   },
   "outputs": [],
   "source": [
    "# what is train_Test_split"
   ]
  },
  {
   "cell_type": "markdown",
   "id": "16f25b23",
   "metadata": {
    "papermill": {
     "duration": 0.00183,
     "end_time": "2023-03-03T16:00:54.444623",
     "exception": false,
     "start_time": "2023-03-03T16:00:54.442793",
     "status": "completed"
    },
    "tags": []
   },
   "source": [
    "* train_test_split is a function in the scikit-learn library that is used to split the data into training and testing sets.\n",
    " \n",
    "* The function randomly splits the data into two sets based on a user-defined proportion. For example, if the proportion is set to 0.8, the function will use 80% of the data for training and 20% for testing.\n",
    "\n",
    "* One of the main advantages of using train_test_split is that it helps to evaluate the performance of a machine learning model on new, unseen data.\n",
    "\n",
    "* The function can be used to split both the input features (X) and the output labels (y) into separate training and testing sets.\n",
    "\n",
    "* train_test_split can be used for both classification and regression problems, and it is commonly used as a preprocessing step in machine learning pipelines. However, it is important to note that the function splits the data randomly, so the results may vary each time the function is run. To obtain more reliable results, it may be necessary to use techniques such as cross-validation.\n",
    "\n",
    "\n",
    "\n",
    "\n"
   ]
  },
  {
   "cell_type": "code",
   "execution_count": 3,
   "id": "54d2f8c5",
   "metadata": {
    "execution": {
     "iopub.execute_input": "2023-03-03T16:00:54.449993Z",
     "iopub.status.busy": "2023-03-03T16:00:54.449385Z",
     "iopub.status.idle": "2023-03-03T16:00:54.452878Z",
     "shell.execute_reply": "2023-03-03T16:00:54.452098Z"
    },
    "papermill": {
     "duration": 0.007847,
     "end_time": "2023-03-03T16:00:54.454525",
     "exception": false,
     "start_time": "2023-03-03T16:00:54.446678",
     "status": "completed"
    },
    "tags": []
   },
   "outputs": [],
   "source": [
    "# what is hyperparameter"
   ]
  },
  {
   "cell_type": "markdown",
   "id": "e13e1de8",
   "metadata": {
    "papermill": {
     "duration": 0.001883,
     "end_time": "2023-03-03T16:00:54.458487",
     "exception": false,
     "start_time": "2023-03-03T16:00:54.456604",
     "status": "completed"
    },
    "tags": []
   },
   "source": [
    "* In machine learning, a hyperparameter is a parameter whose value is set before the learning process begins. Hyperparameters are different from model parameters, which are learned from the training data.\n",
    " \n",
    "* Hyperparameters are typically set by the machine learning practitioner or researcher, based on their experience, knowledge, and domain expertise. Some common examples of hyperparameters include:\n",
    " \n",
    "1. Learning rate in gradient descent algorithms.\n",
    "2. Number of trees in a random forest model.\n",
    "3. Regularization parameters in linear regression or logistic regression models.\n",
    "4. Number of hidden layers in a neural network.\n",
    "5. Kernel type and regularization parameter in a support vector machine (SVM) model.\n",
    "\n",
    "* Hyperparameters can have a significant impact on the performance of a machine learning model, and choosing the right values for them is often a key step in building an accurate and robust model. \n",
    "\n",
    "* In practice, hyperparameters are often tuned using techniques such as grid search or random search, where different combinations of hyperparameters are evaluated on a validation set to find the best set of hyperparameters for the model."
   ]
  },
  {
   "cell_type": "code",
   "execution_count": 4,
   "id": "d7c240a8",
   "metadata": {
    "execution": {
     "iopub.execute_input": "2023-03-03T16:00:54.463611Z",
     "iopub.status.busy": "2023-03-03T16:00:54.463307Z",
     "iopub.status.idle": "2023-03-03T16:00:55.387899Z",
     "shell.execute_reply": "2023-03-03T16:00:55.386035Z"
    },
    "papermill": {
     "duration": 0.930137,
     "end_time": "2023-03-03T16:00:55.390656",
     "exception": false,
     "start_time": "2023-03-03T16:00:54.460519",
     "status": "completed"
    },
    "tags": []
   },
   "outputs": [
    {
     "name": "stdout",
     "output_type": "stream",
     "text": [
      "   Color_Blue  Color_Green  Color_Red\n",
      "0         0.0          0.0        1.0\n",
      "1         0.0          1.0        0.0\n",
      "2         1.0          0.0        0.0\n",
      "3         1.0          0.0        0.0\n",
      "4         0.0          0.0        1.0\n",
      "5         0.0          1.0        0.0\n"
     ]
    }
   ],
   "source": [
    "import pandas as pd\n",
    "from sklearn.preprocessing import OneHotEncoder\n",
    "\n",
    "# create a sample dataset\n",
    "df = pd.DataFrame({'Color': ['Red', 'Green', 'Blue', 'Blue', 'Red', 'Green']})\n",
    "\n",
    "# instantiate OneHotEncoder\n",
    "encoder = OneHotEncoder()\n",
    "\n",
    "# fit and transform the \"Color\" column\n",
    "encoded_array = encoder.fit_transform(df[['Color']]).toarray()\n",
    "\n",
    "# create a new dataframe with the one-hot encoded values\n",
    "encoded_df = pd.DataFrame(encoded_array, columns=['Color_Blue', 'Color_Green', 'Color_Red'])\n",
    "\n",
    "# concatenate the original dataframe and the encoded dataframe\n",
    "df = pd.concat([df, encoded_df], axis=1)\n",
    "\n",
    "# drop the original \"Color\" column\n",
    "df = df.drop('Color', axis=1)\n",
    "\n",
    "# view the final dataframe\n",
    "print(df)\n"
   ]
  },
  {
   "cell_type": "markdown",
   "id": "3cce24bc",
   "metadata": {
    "papermill": {
     "duration": 0.002315,
     "end_time": "2023-03-03T16:00:55.395654",
     "exception": false,
     "start_time": "2023-03-03T16:00:55.393339",
     "status": "completed"
    },
    "tags": []
   },
   "source": []
  }
 ],
 "metadata": {
  "kernelspec": {
   "display_name": "Python 3",
   "language": "python",
   "name": "python3"
  },
  "language_info": {
   "codemirror_mode": {
    "name": "ipython",
    "version": 3
   },
   "file_extension": ".py",
   "mimetype": "text/x-python",
   "name": "python",
   "nbconvert_exporter": "python",
   "pygments_lexer": "ipython3",
   "version": "3.7.12"
  },
  "papermill": {
   "default_parameters": {},
   "duration": 9.875743,
   "end_time": "2023-03-03T16:00:56.121151",
   "environment_variables": {},
   "exception": null,
   "input_path": "__notebook__.ipynb",
   "output_path": "__notebook__.ipynb",
   "parameters": {},
   "start_time": "2023-03-03T16:00:46.245408",
   "version": "2.4.0"
  }
 },
 "nbformat": 4,
 "nbformat_minor": 5
}
